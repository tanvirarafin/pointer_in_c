{
 "cells": [
  {
   "cell_type": "markdown",
   "id": "01519a51",
   "metadata": {
    "hideCode": true,
    "hideOutput": false,
    "hidePrompt": true,
    "slideshow": {
     "slide_type": "slide"
    }
   },
   "source": [
    "![Alt text](part1/output-01.svg)"
   ]
  },
  {
   "cell_type": "markdown",
   "id": "66749e7c",
   "metadata": {
    "slideshow": {
     "slide_type": "slide"
    }
   },
   "source": [
    "![Alt text](part3/output_p2-01.svg)"
   ]
  },
  {
   "cell_type": "markdown",
   "id": "cca6516c",
   "metadata": {
    "slideshow": {
     "slide_type": "slide"
    }
   },
   "source": [
    "![Alt text](part3/output_p2-04.svg)"
   ]
  },
  {
   "cell_type": "markdown",
   "id": "8beb9e83",
   "metadata": {
    "hideCode": true,
    "hidePrompt": true,
    "slideshow": {
     "slide_type": "slide"
    }
   },
   "source": [
    "![Alt text](part1/output-02.svg)"
   ]
  },
  {
   "cell_type": "markdown",
   "id": "f748510a",
   "metadata": {
    "hideCode": true,
    "hidePrompt": true,
    "slideshow": {
     "slide_type": "slide"
    }
   },
   "source": [
    "![Alt text](part1/output-03.svg)"
   ]
  },
  {
   "cell_type": "markdown",
   "id": "a61c3f52",
   "metadata": {
    "hideCode": true,
    "hidePrompt": true,
    "slideshow": {
     "slide_type": "slide"
    }
   },
   "source": [
    "![Alt text](part1/output-04.svg)"
   ]
  },
  {
   "cell_type": "markdown",
   "id": "9eada357",
   "metadata": {
    "hideCode": true,
    "hidePrompt": true,
    "slideshow": {
     "slide_type": "slide"
    }
   },
   "source": [
    "![Alt text](part1/output-06.svg)"
   ]
  },
  {
   "cell_type": "markdown",
   "id": "53852209",
   "metadata": {
    "hideCode": true,
    "hidePrompt": true,
    "slideshow": {
     "slide_type": "slide"
    }
   },
   "source": [
    "![Alt text](part1/output-08.svg)"
   ]
  },
  {
   "cell_type": "markdown",
   "id": "b025bd26",
   "metadata": {
    "hideCode": true,
    "hidePrompt": true,
    "slideshow": {
     "slide_type": "slide"
    }
   },
   "source": [
    "![Alt text](part1/output-09.svg)"
   ]
  },
  {
   "cell_type": "markdown",
   "id": "87182222",
   "metadata": {
    "hideCode": true,
    "hidePrompt": true,
    "slideshow": {
     "slide_type": "slide"
    }
   },
   "source": [
    "![Alt text](part1/output-10.svg)"
   ]
  },
  {
   "cell_type": "markdown",
   "id": "0e119c8d",
   "metadata": {
    "hideCode": true,
    "hidePrompt": true,
    "slideshow": {
     "slide_type": "slide"
    }
   },
   "source": [
    "![Alt text](part1/output-11.svg)"
   ]
  },
  {
   "cell_type": "markdown",
   "id": "ee587976",
   "metadata": {
    "hideCode": true,
    "hidePrompt": true,
    "slideshow": {
     "slide_type": "slide"
    }
   },
   "source": [
    "![Alt text](part1/output-14.svg)"
   ]
  },
  {
   "cell_type": "markdown",
   "id": "014c9ff2",
   "metadata": {
    "hideCode": true,
    "hidePrompt": true,
    "slideshow": {
     "slide_type": "slide"
    }
   },
   "source": [
    "![Alt text](part1/output-18.svg)"
   ]
  },
  {
   "cell_type": "markdown",
   "id": "04691a6b",
   "metadata": {
    "hideCode": true,
    "hidePrompt": true,
    "slideshow": {
     "slide_type": "slide"
    }
   },
   "source": [
    "![Alt text](part1/output-19.svg)"
   ]
  },
  {
   "cell_type": "code",
   "execution_count": 111,
   "id": "4f0d8caf",
   "metadata": {
    "hideCode": false,
    "hidePrompt": false,
    "slideshow": {
     "slide_type": "slide"
    }
   },
   "outputs": [
    {
     "name": "stdout",
     "output_type": "stream",
     "text": [
      "Writing example01_a.c\n"
     ]
    }
   ],
   "source": [
    "%%writefile example01_a.c\n",
    "\n",
    "#include <stdio.h>\n",
    "\n",
    "int main(){\n",
    "        char c; \n",
    "        char* p;\n",
    "\n",
    "        c = 'A';\n",
    "        p = &c;\n",
    "    \n",
    "        printf(\"c = %c\\n\", c);\n",
    "        printf(\"p = %p\\n\", p);\n",
    "        return 0;\n",
    "}\n"
   ]
  },
  {
   "cell_type": "code",
   "execution_count": 112,
   "id": "22e4e83b",
   "metadata": {
    "scrolled": true,
    "slideshow": {
     "slide_type": "-"
    }
   },
   "outputs": [
    {
     "name": "stdout",
     "output_type": "stream",
     "text": [
      "c = A\r\n",
      "p = 0x7ff7b6d797ab\r\n"
     ]
    }
   ],
   "source": [
    "!gcc -ansi example01_a.c -o example01_a\n",
    "!./example01_a"
   ]
  },
  {
   "cell_type": "code",
   "execution_count": 114,
   "id": "89aaabe8",
   "metadata": {
    "scrolled": false,
    "slideshow": {
     "slide_type": "slide"
    }
   },
   "outputs": [
    {
     "name": "stdout",
     "output_type": "stream",
     "text": [
      "Writing example01_b.c\n"
     ]
    }
   ],
   "source": [
    "%%writefile example01_b.c\n",
    "\n",
    "#include <stdio.h>\n",
    "\n",
    "int main(){\n",
    "        char c; \n",
    "        char* p;\n",
    "        char** q;\n",
    "\n",
    "        c = 'A';\n",
    "        p = &c;\n",
    "        q = &p;\n",
    "    \n",
    "        printf(\"c = %c\\n\", c);\n",
    "        printf(\"p = %p\\n\", p);\n",
    "        printf(\"q = %p\\n\", q);\n",
    "        return 0;\n",
    "}"
   ]
  },
  {
   "cell_type": "code",
   "execution_count": 115,
   "id": "a4a477d2",
   "metadata": {
    "scrolled": false
   },
   "outputs": [
    {
     "name": "stdout",
     "output_type": "stream",
     "text": [
      "c = A\r\n",
      "p = 0x7ff7b40d17ab\r\n",
      "q = 0x7ff7b40d17a0\r\n"
     ]
    }
   ],
   "source": [
    "!gcc -ansi example01_b.c -o example01_b\n",
    "!./example01_b"
   ]
  },
  {
   "cell_type": "markdown",
   "id": "e9101354",
   "metadata": {
    "slideshow": {
     "slide_type": "slide"
    }
   },
   "source": [
    "![Alt text](part2/output_p2-01.svg)"
   ]
  },
  {
   "cell_type": "markdown",
   "id": "c1691b1b",
   "metadata": {
    "slideshow": {
     "slide_type": "slide"
    }
   },
   "source": [
    "![Alt text](part2/output_p2-02.svg)"
   ]
  },
  {
   "cell_type": "markdown",
   "id": "fe09e64c",
   "metadata": {
    "hideCode": true,
    "hidePrompt": true,
    "slideshow": {
     "slide_type": "slide"
    }
   },
   "source": [
    "![Alt text](part1/output-16.svg)"
   ]
  },
  {
   "cell_type": "markdown",
   "id": "78ced20e",
   "metadata": {
    "hideCode": true,
    "hidePrompt": true,
    "slideshow": {
     "slide_type": "slide"
    }
   },
   "source": [
    "![Alt text](part1/output-17.svg)"
   ]
  },
  {
   "cell_type": "code",
   "execution_count": 118,
   "id": "808c14fd",
   "metadata": {
    "slideshow": {
     "slide_type": "slide"
    }
   },
   "outputs": [
    {
     "name": "stdout",
     "output_type": "stream",
     "text": [
      "Writing example02_a.c\n"
     ]
    }
   ],
   "source": [
    "%%writefile example02_a.c\n",
    "\n",
    "#include<stdio.h>\n",
    "\n",
    "int main(){        \n",
    "        int *ip; \n",
    "        int  x = 10;\n",
    "        ip = &x;\n",
    "\n",
    "        printf (\"*ip = %d\\n\", *ip);\n",
    "       \n",
    "        ++*ip; \n",
    "        *ip = *ip*4-2;\n",
    "        \n",
    "        printf (\"x = %d\\n\", x);\n",
    "    \n",
    "return 0;\n",
    "}"
   ]
  },
  {
   "cell_type": "code",
   "execution_count": 119,
   "id": "b0e18e77",
   "metadata": {},
   "outputs": [
    {
     "name": "stdout",
     "output_type": "stream",
     "text": [
      "*ip = 10\r\n",
      "x = 42\r\n"
     ]
    }
   ],
   "source": [
    "!gcc -ansi example02_a.c -o example02_a\n",
    "!./example02_a"
   ]
  },
  {
   "cell_type": "code",
   "execution_count": 120,
   "id": "e64a5fcc",
   "metadata": {
    "slideshow": {
     "slide_type": "slide"
    }
   },
   "outputs": [
    {
     "name": "stdout",
     "output_type": "stream",
     "text": [
      "Writing example02_b.c\n"
     ]
    }
   ],
   "source": [
    "%%writefile example02_b.c\n",
    "\n",
    "#include<stdio.h>\n",
    "\n",
    "int main(){        \n",
    "        int *ip; \n",
    "        int  x = 10;\n",
    "        ip = &x;\n",
    "\n",
    "        printf (\"*ip = %d\\n\", *ip);\n",
    "       \n",
    "        (*ip)++; // '*' Operator associated from left to right\n",
    "        (*ip) = (*ip)*4-2;\n",
    "        \n",
    "        printf (\"x = %d\\n\", x);\n",
    "    \n",
    "return 0;\n",
    "}"
   ]
  },
  {
   "cell_type": "code",
   "execution_count": 121,
   "id": "44a299ee",
   "metadata": {
    "slideshow": {
     "slide_type": "-"
    }
   },
   "outputs": [
    {
     "name": "stdout",
     "output_type": "stream",
     "text": [
      "*ip = 10\r\n",
      "x = 42\r\n"
     ]
    }
   ],
   "source": [
    "!gcc -ansi example02_b.c -o example02_b\n",
    "!./example02_b"
   ]
  },
  {
   "cell_type": "markdown",
   "id": "101a887e",
   "metadata": {
    "slideshow": {
     "slide_type": "slide"
    }
   },
   "source": [
    "![Alt text](part2/output_p2-08.svg)"
   ]
  },
  {
   "cell_type": "markdown",
   "id": "3348e8f2",
   "metadata": {
    "slideshow": {
     "slide_type": "slide"
    }
   },
   "source": [
    "![Alt text](part2/output_p2-09.svg)"
   ]
  },
  {
   "cell_type": "markdown",
   "id": "082df4f0",
   "metadata": {
    "slideshow": {
     "slide_type": "slide"
    }
   },
   "source": [
    "![Alt text](part2/output_p2-10.svg)"
   ]
  },
  {
   "cell_type": "markdown",
   "id": "d5f0dd78",
   "metadata": {
    "slideshow": {
     "slide_type": "slide"
    }
   },
   "source": [
    "![Alt text](part2/output_p2-11.svg)"
   ]
  },
  {
   "cell_type": "markdown",
   "id": "a5ff058e",
   "metadata": {
    "slideshow": {
     "slide_type": "slide"
    }
   },
   "source": [
    "![Alt text](part2/output_p2-12.svg)"
   ]
  },
  {
   "cell_type": "markdown",
   "id": "3d841aa9",
   "metadata": {
    "slideshow": {
     "slide_type": "slide"
    }
   },
   "source": [
    "![Alt text](part2/output_p2-20.svg)"
   ]
  },
  {
   "cell_type": "markdown",
   "id": "0c889912",
   "metadata": {
    "slideshow": {
     "slide_type": "slide"
    }
   },
   "source": [
    "![Alt text](part2/output_p2-21.svg)"
   ]
  },
  {
   "cell_type": "code",
   "execution_count": 122,
   "id": "a449a370",
   "metadata": {
    "slideshow": {
     "slide_type": "slide"
    }
   },
   "outputs": [
    {
     "name": "stdout",
     "output_type": "stream",
     "text": [
      "Writing example03_a.c\n"
     ]
    }
   ],
   "source": [
    "%%writefile example03_a.c\n",
    "\n",
    "#include<stdio.h>\n",
    "\n",
    "int main(){\n",
    "    int  a[5] = {3, 6, 9, 12, 15}; \n",
    "    int  *pa; \n",
    "    pa = &a[0];\n",
    "\n",
    "    printf(\" *pa = %d\\n\", *pa);\n",
    "    printf(\" *(pa+1) = %d\\n\", *(pa+1));\n",
    "    printf(\" *(pa+2) = %d\\n\", *(pa+2));\n",
    "    return 0;\n",
    "}\n"
   ]
  },
  {
   "cell_type": "code",
   "execution_count": 123,
   "id": "5dacfd9d",
   "metadata": {
    "slideshow": {
     "slide_type": "-"
    }
   },
   "outputs": [
    {
     "name": "stdout",
     "output_type": "stream",
     "text": [
      " *pa = 3\r\n",
      " *(pa+1) = 6\r\n",
      " *(pa+2) = 9\r\n"
     ]
    }
   ],
   "source": [
    "!gcc -ansi example03_a.c -o example03_a\n",
    "!./example03_a"
   ]
  },
  {
   "cell_type": "code",
   "execution_count": 125,
   "id": "d831794c",
   "metadata": {
    "slideshow": {
     "slide_type": "slide"
    }
   },
   "outputs": [
    {
     "name": "stdout",
     "output_type": "stream",
     "text": [
      "Writing example03_b.c\n"
     ]
    }
   ],
   "source": [
    "%%writefile example03_b.c\n",
    "\n",
    "#include<stdio.h>\n",
    "\n",
    "int main(){\n",
    "    int  a[5] = {3, 6, 9, 12, 15}; \n",
    "    int  *pa; int  *qa;\n",
    "\n",
    "    pa = &a[0];\n",
    "    qa = &a[2];\n",
    "\n",
    "    printf(\" qa-pa = %ld\\n\", qa-pa);\n",
    "    printf(\" qa>=pa? = %d\\n\", qa >= pa);\n",
    "    printf(\" qa==0? = %d\\n\", qa == 0);\n",
    "    return 0;\n",
    "}\n"
   ]
  },
  {
   "cell_type": "code",
   "execution_count": 126,
   "id": "4731cbc6",
   "metadata": {
    "slideshow": {
     "slide_type": "-"
    }
   },
   "outputs": [
    {
     "name": "stdout",
     "output_type": "stream",
     "text": [
      " qa-pa = 2\r\n",
      " qa>=pa? = 1\r\n",
      " qa==0? = 0\r\n"
     ]
    }
   ],
   "source": [
    "!gcc -ansi example03_b.c -o example03_b\n",
    "!./example03_b"
   ]
  },
  {
   "cell_type": "markdown",
   "id": "1008ef2c",
   "metadata": {
    "slideshow": {
     "slide_type": "slide"
    }
   },
   "source": [
    "![Alt text](part2/output_p2-14.svg)"
   ]
  },
  {
   "cell_type": "markdown",
   "id": "71cbba04",
   "metadata": {
    "slideshow": {
     "slide_type": "slide"
    }
   },
   "source": [
    "![Alt text](part2/output_p2-15.svg)"
   ]
  },
  {
   "cell_type": "markdown",
   "id": "29463d99",
   "metadata": {
    "slideshow": {
     "slide_type": "slide"
    }
   },
   "source": [
    "![Alt text](part2/output_p2-17.svg)"
   ]
  },
  {
   "cell_type": "markdown",
   "id": "f778805c",
   "metadata": {
    "slideshow": {
     "slide_type": "slide"
    }
   },
   "source": [
    "![Alt text](part2/output_p2-18.svg)"
   ]
  },
  {
   "cell_type": "markdown",
   "id": "7857a132",
   "metadata": {
    "slideshow": {
     "slide_type": "slide"
    }
   },
   "source": [
    "![Alt text](part2/output_p2-23.svg)"
   ]
  },
  {
   "cell_type": "code",
   "execution_count": 130,
   "id": "b140e300",
   "metadata": {
    "slideshow": {
     "slide_type": "slide"
    }
   },
   "outputs": [
    {
     "name": "stdout",
     "output_type": "stream",
     "text": [
      "Writing example04_a.c\n"
     ]
    }
   ],
   "source": [
    "%%writefile example04_a.c\n",
    "\n",
    "#include<stdio.h>\n",
    "\n",
    "void increment(int i){\n",
    "    i = i+1;\n",
    "}\n",
    "\n",
    "int main(){\n",
    "    int  i = 10;\n",
    "    increment(i);\n",
    "    printf(\"i = %d\\n\",i);\n",
    "    \n",
    "    return 0;\n",
    "}\n"
   ]
  },
  {
   "cell_type": "code",
   "execution_count": 131,
   "id": "2078959a",
   "metadata": {
    "slideshow": {
     "slide_type": "-"
    }
   },
   "outputs": [
    {
     "name": "stdout",
     "output_type": "stream",
     "text": [
      "i = 10\r\n"
     ]
    }
   ],
   "source": [
    "!gcc -ansi example04_a.c -o example04_a\n",
    "!./example04_a"
   ]
  },
  {
   "cell_type": "code",
   "execution_count": 134,
   "id": "64983403",
   "metadata": {
    "slideshow": {
     "slide_type": "slide"
    }
   },
   "outputs": [
    {
     "name": "stdout",
     "output_type": "stream",
     "text": [
      "Overwriting example04_b.c\n"
     ]
    }
   ],
   "source": [
    "%%writefile example04_b.c\n",
    "\n",
    "#include<stdio.h>\n",
    "\n",
    "void increment(int i){\n",
    "    i = i+1;\n",
    "    printf(\"Address of variable i in the increment function %p\\n\", &i);\n",
    "}\n",
    "\n",
    "int main(){\n",
    "    int  i = 10;\n",
    "    increment(i);\n",
    "    printf(\"Address of variable i in the main function      %p\\n\", &i);\n",
    "    return 0;\n",
    "}\n"
   ]
  },
  {
   "cell_type": "code",
   "execution_count": 135,
   "id": "eed4afb3",
   "metadata": {
    "slideshow": {
     "slide_type": "-"
    }
   },
   "outputs": [
    {
     "name": "stdout",
     "output_type": "stream",
     "text": [
      "Address of variable i in the increment function 0x7ff7b7b0d78c\r\n",
      "Address of variable i in the main function      0x7ff7b7b0d7a8\r\n"
     ]
    }
   ],
   "source": [
    "!gcc -ansi example04_b.c -o example04_b\n",
    "!./example04_b"
   ]
  },
  {
   "cell_type": "markdown",
   "id": "50039ea5",
   "metadata": {
    "slideshow": {
     "slide_type": "slide"
    }
   },
   "source": [
    "![Alt text](part2/output_p2-25.svg)"
   ]
  },
  {
   "cell_type": "markdown",
   "id": "d77f355e",
   "metadata": {
    "slideshow": {
     "slide_type": "slide"
    }
   },
   "source": [
    "![Alt text](part2/output_p2-26.svg)"
   ]
  },
  {
   "cell_type": "markdown",
   "id": "71fc2134",
   "metadata": {
    "slideshow": {
     "slide_type": "slide"
    }
   },
   "source": [
    "![Alt text](part2/output_p2-27.svg)"
   ]
  },
  {
   "cell_type": "markdown",
   "id": "58ead4c7",
   "metadata": {
    "slideshow": {
     "slide_type": "slide"
    }
   },
   "source": [
    "![Alt text](part2/output_p2-28.svg)"
   ]
  },
  {
   "cell_type": "markdown",
   "id": "b521e997",
   "metadata": {
    "slideshow": {
     "slide_type": "slide"
    }
   },
   "source": [
    "![Alt text](part2/output_p2-29.svg)"
   ]
  },
  {
   "cell_type": "code",
   "execution_count": 136,
   "id": "01669d36",
   "metadata": {
    "slideshow": {
     "slide_type": "slide"
    }
   },
   "outputs": [
    {
     "name": "stdout",
     "output_type": "stream",
     "text": [
      "Writing example04_c.c\n"
     ]
    }
   ],
   "source": [
    "%%writefile example04_c.c\n",
    "\n",
    "#include<stdio.h>\n",
    "\n",
    "void increment(int *i){\n",
    "    (*i) = (*i) + 1;\n",
    "}\n",
    "\n",
    "int main(){\n",
    "    int  i = 10;\n",
    "    increment(&i);\n",
    "    printf(\"i = %d\\n\",i);\n",
    "    \n",
    "    return 0;\n",
    "}"
   ]
  },
  {
   "cell_type": "code",
   "execution_count": 137,
   "id": "ca6be344",
   "metadata": {
    "slideshow": {
     "slide_type": "-"
    }
   },
   "outputs": [
    {
     "name": "stdout",
     "output_type": "stream",
     "text": [
      "i = 11\r\n"
     ]
    }
   ],
   "source": [
    "!gcc -ansi example04_c.c -o example04_c\n",
    "!./example04_c"
   ]
  },
  {
   "cell_type": "markdown",
   "id": "c404e43a",
   "metadata": {
    "slideshow": {
     "slide_type": "slide"
    }
   },
   "source": [
    "![Alt text](part2/output_p2-31.svg)"
   ]
  },
  {
   "cell_type": "code",
   "execution_count": 171,
   "id": "e71103c8",
   "metadata": {
    "slideshow": {
     "slide_type": "slide"
    }
   },
   "outputs": [
    {
     "name": "stdout",
     "output_type": "stream",
     "text": [
      "Overwriting example04_d.c\n"
     ]
    }
   ],
   "source": [
    "%%writefile example04_d.c\n",
    "\n",
    "#include<stdio.h>\n",
    "#include<stdlib.h>\n",
    "\n",
    "void increment(int *i){\n",
    "    (*i) = (*i) + 1;\n",
    "}\n",
    "\n",
    "int main(int argc, char *argv[]){\n",
    "    int i = atoi(argv[1]);\n",
    "    increment(&i);\n",
    "    printf(\"i = %d\\n\", i);\n",
    "    return 0;\n",
    "}"
   ]
  },
  {
   "cell_type": "code",
   "execution_count": 172,
   "id": "a362dfb0",
   "metadata": {
    "slideshow": {
     "slide_type": "-"
    }
   },
   "outputs": [
    {
     "name": "stdout",
     "output_type": "stream",
     "text": [
      "i = 11\r\n"
     ]
    }
   ],
   "source": [
    "!gcc -ansi example04_d.c -o example04_d\n",
    "!./example04_d 10"
   ]
  },
  {
   "cell_type": "markdown",
   "id": "97abf1b5",
   "metadata": {
    "slideshow": {
     "slide_type": "slide"
    }
   },
   "source": [
    "![Alt text](part2/output_p2-33.svg)"
   ]
  },
  {
   "cell_type": "code",
   "execution_count": 187,
   "id": "ea7e32f9",
   "metadata": {
    "slideshow": {
     "slide_type": "slide"
    }
   },
   "outputs": [
    {
     "name": "stdout",
     "output_type": "stream",
     "text": [
      "Overwriting example05_a.c\n"
     ]
    }
   ],
   "source": [
    "%%writefile example05_a.c\n",
    "\n",
    "#include<stdio.h>\n",
    "#include<stdlib.h>\n",
    "\n",
    "void cstrcpy(char *t, char *s){\n",
    "    while(*s != '0'){\n",
    "        *t = *s;\n",
    "        s++;\n",
    "        t++;\n",
    "    }\n",
    "}\n",
    "\n",
    "int main(){\n",
    "    char *pm1 = \"Hello\";\n",
    "    char *pm2 = (char*)malloc(6*sizeof(char)); \n",
    "    \n",
    "    cstrcpy(pm2, pm1);\n",
    "    \n",
    "    printf(\"The original data = %s\\n\", pm1);\n",
    "    printf(\"The copied data = %s\\n\", pm2);\n",
    "    \n",
    "    free(pm2);\n",
    "    \n",
    "    return 0;\n",
    "}"
   ]
  },
  {
   "cell_type": "code",
   "execution_count": 188,
   "id": "b73559c4",
   "metadata": {
    "slideshow": {
     "slide_type": "slide"
    }
   },
   "outputs": [
    {
     "name": "stdout",
     "output_type": "stream",
     "text": [
      "The original data = Hello\r\n",
      "The copied data = Hello\r\n"
     ]
    }
   ],
   "source": [
    "!gcc -ansi example05_a.c -o example05_a.c\n",
    "!./example05_a.c"
   ]
  },
  {
   "cell_type": "code",
   "execution_count": 189,
   "id": "94fae7fd",
   "metadata": {
    "code_folding": [],
    "slideshow": {
     "slide_type": "slide"
    }
   },
   "outputs": [
    {
     "name": "stdout",
     "output_type": "stream",
     "text": [
      "Overwriting example05_b.c\n"
     ]
    }
   ],
   "source": [
    "%%writefile example05_b.c\n",
    "\n",
    "#include<stdio.h>\n",
    "#include<stdlib.h>\n",
    "\n",
    "void cstrcpy(char *t, char *s){\n",
    "    while(*t++ = *s++){;}\n",
    "}\n",
    "\n",
    "int main(){\n",
    "    char *pm1 = \"Hello\";\n",
    "    char *pm2 = (char*)malloc(6*sizeof(char)); \n",
    "    \n",
    "    cstrcpy(pm2, pm1);\n",
    "    \n",
    "    printf(\"The original data = %s\\n\", pm1);\n",
    "    printf(\"The copied data = %s\\n\", pm2);\n",
    "    \n",
    "    free(pm2);\n",
    "    \n",
    "    return 0;\n",
    "}"
   ]
  },
  {
   "cell_type": "code",
   "execution_count": 190,
   "id": "24f64d54",
   "metadata": {
    "slideshow": {
     "slide_type": "slide"
    }
   },
   "outputs": [
    {
     "name": "stdout",
     "output_type": "stream",
     "text": [
      "The original data = Hello\r\n",
      "The copied data = Hello\r\n"
     ]
    }
   ],
   "source": [
    "!gcc -ansi -Wno-parentheses example05_b.c -o example05_b\n",
    "!./example05_b"
   ]
  },
  {
   "cell_type": "code",
   "execution_count": 74,
   "id": "458fd710",
   "metadata": {
    "slideshow": {
     "slide_type": "slide"
    }
   },
   "outputs": [
    {
     "name": "stdout",
     "output_type": "stream",
     "text": [
      "Overwriting example20.c\n"
     ]
    }
   ],
   "source": [
    "%%writefile example06.c\n",
    "\n",
    "// Function pointers\n",
    "\n",
    "#include<stdio.h>\n",
    "\n",
    "\n",
    "int add(int a, int b) {return a+b;}\n",
    "int mul(int a, int b) {return a*b;}\n",
    "\n",
    "void exec(int (*fun)(int, int)){\n",
    "    printf(\"The result is %d\\n\", fun(5,7));\n",
    "}\n",
    "\n",
    "int main(){\n",
    "    \n",
    "    int (*func_pt) (int, int);\n",
    "    \n",
    "    func_pt = &add;\n",
    "    \n",
    "    printf(\"The result is %d\\n\", func_pt(5,7));\n",
    "    \n",
    "    exec(add);\n",
    "    exec(mul);\n",
    "    return 0;\n",
    "}"
   ]
  },
  {
   "cell_type": "code",
   "execution_count": 75,
   "id": "77a2a4ce",
   "metadata": {
    "slideshow": {
     "slide_type": "slide"
    }
   },
   "outputs": [
    {
     "name": "stdout",
     "output_type": "stream",
     "text": [
      "The result is 12\r\n",
      "The result is 12\r\n",
      "The result is 35\r\n"
     ]
    }
   ],
   "source": [
    "!gcc -ansi  example06.c -o example06\n",
    "!./example06"
   ]
  },
  {
   "cell_type": "markdown",
   "id": "66848173",
   "metadata": {
    "slideshow": {
     "slide_type": "slide"
    }
   },
   "source": [
    "![Alt text](part3/output_p2-02.svg)"
   ]
  },
  {
   "cell_type": "markdown",
   "id": "9bf311e9",
   "metadata": {
    "slideshow": {
     "slide_type": "slide"
    }
   },
   "source": [
    "![Alt text](part3/output_p2-03.svg)"
   ]
  },
  {
   "cell_type": "markdown",
   "id": "2c0d4e95",
   "metadata": {},
   "source": [
    "## Excercise"
   ]
  },
  {
   "cell_type": "code",
   "execution_count": 103,
   "id": "a9678416",
   "metadata": {},
   "outputs": [
    {
     "name": "stdout",
     "output_type": "stream",
     "text": [
      "Overwriting example21.c\n"
     ]
    }
   ],
   "source": [
    "%%writefile example21.c\n",
    "#include<stdio.h>\n",
    "\n",
    "\n",
    "\n",
    "int main(){\n",
    "    \n",
    "    int x = 10;\n",
    "    int *y = &x;\n",
    "    \n",
    "    printf(\"*y = %d\\n\", *y);\n",
    "    \n",
    "    int *z = y;\n",
    "    printf(\"*z = %d\\n\", *z);\n",
    "    \n",
    "    int *s;\n",
    "    *s = 2;\n",
    "    z = s;\n",
    "    printf(\"*z = %d\\n\", *z);\n",
    "    printf(\"z = %p\\n\", z);\n",
    "    printf(\"s = %p\\n\", s);\n",
    "    \n",
    "    *z = *y;\n",
    "    printf(\"*z = %d\\n\", *z);\n",
    "    printf(\"z = %p\\n\", z);\n",
    "    printf(\"y = %p\\n\", y);\n",
    "    \n",
    "    return 0;\n",
    "}"
   ]
  },
  {
   "cell_type": "code",
   "execution_count": 104,
   "id": "01c5f20b",
   "metadata": {},
   "outputs": [
    {
     "name": "stdout",
     "output_type": "stream",
     "text": [
      "*y = 10\r\n",
      "*z = 10\r\n",
      "*z = 2\r\n",
      "z = 0x7ff7ba28f7c0\r\n",
      "s = 0x7ff7ba28f7c0\r\n",
      "*z = 10\r\n",
      "z = 0x7ff7ba28f7c0\r\n",
      "y = 0x7ff7ba28f7b8\r\n"
     ]
    }
   ],
   "source": [
    "!gcc -ansi  example21.c -o example21\n",
    "!./example21"
   ]
  },
  {
   "cell_type": "code",
   "execution_count": null,
   "id": "fefb7cd6",
   "metadata": {},
   "outputs": [],
   "source": []
  }
 ],
 "metadata": {
  "celltoolbar": "Slideshow",
  "kernelspec": {
   "display_name": "Python 3 (ipykernel)",
   "language": "python",
   "name": "python3"
  },
  "language_info": {
   "codemirror_mode": {
    "name": "ipython",
    "version": 3
   },
   "file_extension": ".py",
   "mimetype": "text/x-python",
   "name": "python",
   "nbconvert_exporter": "python",
   "pygments_lexer": "ipython3",
   "version": "3.9.1"
  },
  "rise": {
   "theme": "none",
   "transition": "none"
  }
 },
 "nbformat": 4,
 "nbformat_minor": 5
}
