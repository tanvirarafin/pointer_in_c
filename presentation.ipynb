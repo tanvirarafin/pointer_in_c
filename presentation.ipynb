{
 "cells": [
  {
   "cell_type": "markdown",
   "id": "01519a51",
   "metadata": {
    "hideCode": true,
    "hideOutput": false,
    "hidePrompt": true,
    "slideshow": {
     "slide_type": "slide"
    }
   },
   "source": [
    "![Alt text](part1/output-01.svg)"
   ]
  },
  {
   "cell_type": "code",
   "execution_count": null,
   "id": "3467316f",
   "metadata": {},
   "outputs": [],
   "source": []
  },
  {
   "cell_type": "markdown",
   "id": "8beb9e83",
   "metadata": {
    "hideCode": true,
    "hidePrompt": true,
    "slideshow": {
     "slide_type": "slide"
    }
   },
   "source": [
    "![Alt text](part1/output-02.svg)"
   ]
  },
  {
   "cell_type": "markdown",
   "id": "f748510a",
   "metadata": {
    "hideCode": true,
    "hidePrompt": true,
    "slideshow": {
     "slide_type": "slide"
    }
   },
   "source": [
    "![Alt text](part1/output-03.svg)"
   ]
  },
  {
   "cell_type": "markdown",
   "id": "a61c3f52",
   "metadata": {
    "hideCode": true,
    "hidePrompt": true,
    "slideshow": {
     "slide_type": "slide"
    }
   },
   "source": [
    "![Alt text](part1/output-04.svg)"
   ]
  },
  {
   "cell_type": "markdown",
   "id": "9eada357",
   "metadata": {
    "hideCode": true,
    "hidePrompt": true,
    "slideshow": {
     "slide_type": "slide"
    }
   },
   "source": [
    "![Alt text](part1/output-06.svg)"
   ]
  },
  {
   "cell_type": "markdown",
   "id": "53852209",
   "metadata": {
    "hideCode": true,
    "hidePrompt": true,
    "slideshow": {
     "slide_type": "slide"
    }
   },
   "source": [
    "![Alt text](part1/output-08.svg)"
   ]
  },
  {
   "cell_type": "markdown",
   "id": "b025bd26",
   "metadata": {
    "hideCode": true,
    "hidePrompt": true,
    "slideshow": {
     "slide_type": "slide"
    }
   },
   "source": [
    "![Alt text](part1/output-09.svg)"
   ]
  },
  {
   "cell_type": "markdown",
   "id": "87182222",
   "metadata": {
    "hideCode": true,
    "hidePrompt": true,
    "slideshow": {
     "slide_type": "slide"
    }
   },
   "source": [
    "![Alt text](part1/output-10.svg)"
   ]
  },
  {
   "cell_type": "markdown",
   "id": "0e119c8d",
   "metadata": {
    "hideCode": true,
    "hidePrompt": true,
    "slideshow": {
     "slide_type": "slide"
    }
   },
   "source": [
    "![Alt text](part1/output-11.svg)"
   ]
  },
  {
   "cell_type": "markdown",
   "id": "ee587976",
   "metadata": {
    "hideCode": true,
    "hidePrompt": true,
    "slideshow": {
     "slide_type": "slide"
    }
   },
   "source": [
    "![Alt text](part1/output-14.svg)"
   ]
  },
  {
   "cell_type": "markdown",
   "id": "014c9ff2",
   "metadata": {
    "hideCode": true,
    "hidePrompt": true,
    "slideshow": {
     "slide_type": "slide"
    }
   },
   "source": [
    "![Alt text](part1/output-18.svg)"
   ]
  },
  {
   "cell_type": "markdown",
   "id": "04691a6b",
   "metadata": {
    "hideCode": true,
    "hidePrompt": true,
    "slideshow": {
     "slide_type": "slide"
    }
   },
   "source": [
    "![Alt text](part1/output-19.svg)"
   ]
  },
  {
   "cell_type": "markdown",
   "id": "54e69790",
   "metadata": {
    "hideCode": true,
    "hidePrompt": true,
    "slideshow": {
     "slide_type": "slide"
    }
   },
   "source": [
    "![Alt text](part1/output-20.svg)"
   ]
  },
  {
   "cell_type": "code",
   "execution_count": 1,
   "id": "4f0d8caf",
   "metadata": {
    "hideCode": false,
    "hidePrompt": false,
    "slideshow": {
     "slide_type": "slide"
    }
   },
   "outputs": [
    {
     "name": "stdout",
     "output_type": "stream",
     "text": [
      "Overwriting example01.c\n"
     ]
    }
   ],
   "source": [
    "%%writefile example01.c\n",
    "\n",
    "#include <stdio.h>\n",
    "\n",
    "int main(){\n",
    "        char c; \n",
    "        char* p;\n",
    "\n",
    "        c = 'A';\n",
    "        p = &c;\n",
    "    \n",
    "        printf(\"c = %c\\n\", c);\n",
    "        printf(\"p = %p\\n\", p);\n",
    "        return 0;\n",
    "}\n"
   ]
  },
  {
   "cell_type": "code",
   "execution_count": 2,
   "id": "22e4e83b",
   "metadata": {
    "scrolled": true,
    "slideshow": {
     "slide_type": "-"
    }
   },
   "outputs": [
    {
     "name": "stdout",
     "output_type": "stream",
     "text": [
      "c = A\r\n",
      "p = 0x7ff7b42187bb\r\n"
     ]
    }
   ],
   "source": [
    "!gcc -ansi example01.c -o example01\n",
    "!./example01"
   ]
  },
  {
   "cell_type": "code",
   "execution_count": 3,
   "id": "89aaabe8",
   "metadata": {
    "scrolled": false,
    "slideshow": {
     "slide_type": "slide"
    }
   },
   "outputs": [
    {
     "name": "stdout",
     "output_type": "stream",
     "text": [
      "Overwriting example02.c\n"
     ]
    }
   ],
   "source": [
    "%%writefile example02.c\n",
    "\n",
    "#include <stdio.h>\n",
    "\n",
    "int main(){\n",
    "        char c; \n",
    "        char* p;\n",
    "        char** q;\n",
    "\n",
    "        c = 'A';\n",
    "        p = &c;\n",
    "        q = &p;\n",
    "    \n",
    "        printf(\"c = %c\\n\", c);\n",
    "        printf(\"p = %p\\n\", p);\n",
    "        printf(\"q = %p\\n\", q);\n",
    "        return 0;\n",
    "}"
   ]
  },
  {
   "cell_type": "code",
   "execution_count": 4,
   "id": "a4a477d2",
   "metadata": {
    "scrolled": false
   },
   "outputs": [
    {
     "name": "stdout",
     "output_type": "stream",
     "text": [
      "c = A\r\n",
      "p = 0x7ff7b0fa07bb\r\n",
      "q = 0x7ff7b0fa07b0\r\n"
     ]
    }
   ],
   "source": [
    "!gcc -ansi example02.c -o example02\n",
    "!./example02"
   ]
  },
  {
   "cell_type": "markdown",
   "id": "804855ad",
   "metadata": {
    "slideshow": {
     "slide_type": "slide"
    }
   },
   "source": [
    "![Alt text](part2/output_p2-01.svg)"
   ]
  },
  {
   "cell_type": "markdown",
   "id": "eed3527c",
   "metadata": {
    "slideshow": {
     "slide_type": "slide"
    }
   },
   "source": [
    "![Alt text](part2/output_p2-02.svg)"
   ]
  },
  {
   "cell_type": "markdown",
   "id": "fe09e64c",
   "metadata": {
    "hideCode": true,
    "hidePrompt": true,
    "slideshow": {
     "slide_type": "slide"
    }
   },
   "source": [
    "![Alt text](part1/output-16.svg)"
   ]
  },
  {
   "cell_type": "markdown",
   "id": "78ced20e",
   "metadata": {
    "hideCode": true,
    "hidePrompt": true,
    "slideshow": {
     "slide_type": "slide"
    }
   },
   "source": [
    "![Alt text](part1/output-17.svg)"
   ]
  },
  {
   "cell_type": "markdown",
   "id": "5e25edb9",
   "metadata": {
    "slideshow": {
     "slide_type": "slide"
    }
   },
   "source": [
    "![Alt text](part2/output_p2-03.svg)"
   ]
  },
  {
   "cell_type": "markdown",
   "id": "7e245189",
   "metadata": {},
   "source": [
    "![Alt text](part2/output_p2-05.svg)"
   ]
  },
  {
   "cell_type": "markdown",
   "id": "b0c8e9a9",
   "metadata": {
    "slideshow": {
     "slide_type": "slide"
    }
   },
   "source": [
    "![Alt text](part2/output_p2-06.svg)"
   ]
  },
  {
   "cell_type": "markdown",
   "id": "f63d0e32",
   "metadata": {
    "slideshow": {
     "slide_type": "slide"
    }
   },
   "source": [
    "![Alt text](part2/output_p2-07.svg)"
   ]
  },
  {
   "cell_type": "code",
   "execution_count": 5,
   "id": "7c29caaa",
   "metadata": {
    "slideshow": {
     "slide_type": "slide"
    }
   },
   "outputs": [
    {
     "name": "stdout",
     "output_type": "stream",
     "text": [
      "Overwriting example03.c\n"
     ]
    }
   ],
   "source": [
    "%%writefile example03.c\n",
    "\n",
    "#include <stdio.h>\n",
    "\n",
    "int main(){\n",
    "        char c; \n",
    "        char* p;\n",
    "        char** q;\n",
    "\n",
    "        c = 'A';\n",
    "        p = &c;\n",
    "        q = &p;\n",
    "    \n",
    "        printf(\"c = %c\\n\", c);\n",
    "        printf(\"p = %p\\n\", p);\n",
    "        printf(\"q = %p\\n\", q);\n",
    "        printf(\"Dereferencing p  gives us = %c\\n\", *p);\n",
    "        printf(\"Dereferencing q  gives us %p\\n\", *q);\n",
    "        printf(\"Dereferencing q  twice gives us %c\\n\", **q);\n",
    "        return 0;\n",
    "    \n",
    "}"
   ]
  },
  {
   "cell_type": "code",
   "execution_count": 6,
   "id": "2f1b333f",
   "metadata": {
    "slideshow": {
     "slide_type": "slide"
    }
   },
   "outputs": [
    {
     "name": "stdout",
     "output_type": "stream",
     "text": [
      "c = A\r\n",
      "p = 0x7ff7ba92d7bb\r\n",
      "q = 0x7ff7ba92d7b0\r\n",
      "Dereferencing p  gives us = A\r\n",
      "Dereferencing q  gives us 0x7ff7ba92d7bb\r\n",
      "Dereferencing q  twice gives us A\r\n"
     ]
    }
   ],
   "source": [
    "!gcc -ansi example03.c -o example03\n",
    "!./example03"
   ]
  },
  {
   "cell_type": "code",
   "execution_count": 7,
   "id": "91a0dcb8",
   "metadata": {
    "slideshow": {
     "slide_type": "slide"
    }
   },
   "outputs": [
    {
     "name": "stdout",
     "output_type": "stream",
     "text": [
      "Overwriting example04.c\n"
     ]
    }
   ],
   "source": [
    "%%writefile example04.c\n",
    "\n",
    "#include<stdio.h>\n",
    "\n",
    "int main(){        \n",
    "        int *ip; \n",
    "        int  x = 10;\n",
    "        ip = &x;\n",
    "\n",
    "        printf (\"*ip = %d\\n\", *ip);\n",
    "       \n",
    "        ++*ip; \n",
    "        *ip = *ip*4-2;\n",
    "        \n",
    "        printf (\"x = %d\\n\", x);\n",
    "    \n",
    "return 0;\n",
    "}"
   ]
  },
  {
   "cell_type": "code",
   "execution_count": 8,
   "id": "945e18c5",
   "metadata": {},
   "outputs": [
    {
     "name": "stdout",
     "output_type": "stream",
     "text": [
      "*ip = 10\r\n",
      "x = 42\r\n"
     ]
    }
   ],
   "source": [
    "!gcc -ansi example04.c -o example04\n",
    "!./example04"
   ]
  },
  {
   "cell_type": "code",
   "execution_count": 9,
   "id": "7fc10406",
   "metadata": {
    "slideshow": {
     "slide_type": "slide"
    }
   },
   "outputs": [
    {
     "name": "stdout",
     "output_type": "stream",
     "text": [
      "Overwriting example05.c\n"
     ]
    }
   ],
   "source": [
    "%%writefile example05.c\n",
    "\n",
    "#include<stdio.h>\n",
    "\n",
    "int main(){        \n",
    "        int *ip; \n",
    "        int  x = 10;\n",
    "        ip = &x;\n",
    "\n",
    "        printf (\"*ip = %d\\n\", *ip);\n",
    "       \n",
    "        *ip++; \n",
    "        (*ip) = (*ip)*4-2;\n",
    "        \n",
    "        printf (\"x = %d\\n\", x);\n",
    "    \n",
    "return 0;\n",
    "}"
   ]
  },
  {
   "cell_type": "code",
   "execution_count": 10,
   "id": "dd09ef5f",
   "metadata": {
    "slideshow": {
     "slide_type": "slide"
    }
   },
   "outputs": [
    {
     "name": "stdout",
     "output_type": "stream",
     "text": [
      "\u001b[1mexample05.c:11:9: \u001b[0m\u001b[0;1;35mwarning: \u001b[0m\u001b[1mexpression result unused [-Wunused-value]\u001b[0m\n",
      "        *ip++; \n",
      "\u001b[0;1;32m        ^~~~~\n",
      "\u001b[0m1 warning generated.\n",
      "*ip = 10\n",
      "x = 10\n"
     ]
    }
   ],
   "source": [
    "!gcc -ansi example05.c -o example05\n",
    "!./example05"
   ]
  },
  {
   "cell_type": "code",
   "execution_count": 11,
   "id": "e09b78ca",
   "metadata": {
    "slideshow": {
     "slide_type": "slide"
    }
   },
   "outputs": [
    {
     "name": "stdout",
     "output_type": "stream",
     "text": [
      "Overwriting example05.c\n"
     ]
    }
   ],
   "source": [
    "%%writefile example05.c\n",
    "\n",
    "#include<stdio.h>\n",
    "\n",
    "int main(){        \n",
    "        int *ip; \n",
    "        int  x = 10;\n",
    "        ip = &x;\n",
    "\n",
    "        printf (\"*ip = %d\\n\", *ip);\n",
    "       \n",
    "        (*ip)++; // '*' Operator associated from left to right\n",
    "        (*ip) = (*ip)*4-2;\n",
    "        \n",
    "        printf (\"x = %d\\n\", x);\n",
    "    \n",
    "return 0;\n",
    "}"
   ]
  },
  {
   "cell_type": "code",
   "execution_count": 12,
   "id": "f3099436",
   "metadata": {
    "slideshow": {
     "slide_type": "slide"
    }
   },
   "outputs": [
    {
     "name": "stdout",
     "output_type": "stream",
     "text": [
      "*ip = 10\r\n",
      "x = 42\r\n"
     ]
    }
   ],
   "source": [
    "!gcc -ansi example05.c -o example05\n",
    "!./example05"
   ]
  },
  {
   "cell_type": "markdown",
   "id": "d95c3a24",
   "metadata": {
    "slideshow": {
     "slide_type": "slide"
    }
   },
   "source": [
    "![Alt text](part2/output_p2-08.svg)"
   ]
  },
  {
   "cell_type": "markdown",
   "id": "8c645af4",
   "metadata": {
    "slideshow": {
     "slide_type": "slide"
    }
   },
   "source": [
    "![Alt text](part2/output_p2-09.svg)"
   ]
  },
  {
   "cell_type": "markdown",
   "id": "cb7efd5e",
   "metadata": {
    "slideshow": {
     "slide_type": "slide"
    }
   },
   "source": [
    "![Alt text](part2/output_p2-10.svg)"
   ]
  },
  {
   "cell_type": "markdown",
   "id": "46c7d6cf",
   "metadata": {
    "slideshow": {
     "slide_type": "slide"
    }
   },
   "source": [
    "![Alt text](part2/output_p2-11.svg)"
   ]
  },
  {
   "cell_type": "markdown",
   "id": "414b80ee",
   "metadata": {
    "slideshow": {
     "slide_type": "slide"
    }
   },
   "source": [
    "![Alt text](part2/output_p2-12.svg)"
   ]
  },
  {
   "cell_type": "markdown",
   "id": "d8969ffc",
   "metadata": {
    "slideshow": {
     "slide_type": "slide"
    }
   },
   "source": [
    "![Alt text](part2/output_p2-13.svg)"
   ]
  },
  {
   "cell_type": "code",
   "execution_count": 13,
   "id": "d5a9c58b",
   "metadata": {
    "slideshow": {
     "slide_type": "slide"
    }
   },
   "outputs": [
    {
     "name": "stdout",
     "output_type": "stream",
     "text": [
      "Overwriting example06.c\n"
     ]
    }
   ],
   "source": [
    "%%writefile example06.c\n",
    "\n",
    "#include<stdio.h>\n",
    "\n",
    "int main(){\n",
    "    int  a[5];\n",
    "    int  *pa;\n",
    "    \n",
    "    pa = &a[0];\n",
    "\n",
    "    \n",
    "    *pa = 10; *(pa + 1) = 20; *(pa+2) =30;\n",
    "    \n",
    "    int y = *(pa+2); \n",
    "    \n",
    "    printf(\" y = %d\\n\", y);\n",
    "    return 0;\n",
    "}\n"
   ]
  },
  {
   "cell_type": "code",
   "execution_count": 14,
   "id": "1c966006",
   "metadata": {
    "slideshow": {
     "slide_type": "slide"
    }
   },
   "outputs": [
    {
     "name": "stdout",
     "output_type": "stream",
     "text": [
      " y = 30\r\n"
     ]
    }
   ],
   "source": [
    "!gcc -ansi example06.c -o example06\n",
    "!./example06"
   ]
  },
  {
   "cell_type": "code",
   "execution_count": 15,
   "id": "a449a370",
   "metadata": {
    "slideshow": {
     "slide_type": "slide"
    }
   },
   "outputs": [
    {
     "name": "stdout",
     "output_type": "stream",
     "text": [
      "Overwriting example07.c\n"
     ]
    }
   ],
   "source": [
    "%%writefile example07.c\n",
    "\n",
    "#include<stdio.h>\n",
    "\n",
    "int main(){\n",
    "    int  a[5] = {3, 6, 9, 12, 15}; \n",
    "    int  *pa; \n",
    "    pa = &a[0];\n",
    "\n",
    "    printf(\" *pa = %d\\n\", *pa);\n",
    "    printf(\" *(pa+1) = %d\\n\", *(pa+1));\n",
    "    printf(\" *(pa+2) = %d\\n\", *(pa+2));\n",
    "    return 0;\n",
    "}\n"
   ]
  },
  {
   "cell_type": "code",
   "execution_count": 16,
   "id": "5dacfd9d",
   "metadata": {
    "slideshow": {
     "slide_type": "slide"
    }
   },
   "outputs": [
    {
     "name": "stdout",
     "output_type": "stream",
     "text": [
      " *pa = 3\r\n",
      " *(pa+1) = 6\r\n",
      " *(pa+2) = 9\r\n"
     ]
    }
   ],
   "source": [
    "!gcc -ansi example07.c -o example07\n",
    "!./example07"
   ]
  },
  {
   "cell_type": "code",
   "execution_count": 17,
   "id": "3569d608",
   "metadata": {
    "slideshow": {
     "slide_type": "slide"
    }
   },
   "outputs": [
    {
     "name": "stdout",
     "output_type": "stream",
     "text": [
      "Overwriting example08.c\n"
     ]
    }
   ],
   "source": [
    "%%writefile example08.c\n",
    "\n",
    "#include<stdio.h>\n",
    "\n",
    "int main(){\n",
    "    int  a[5] = {3, 6, 9, 12, 15}; \n",
    "    int  *pa; \n",
    "    pa = &a[0];\n",
    "\n",
    "    printf(\" *pa = %d\\n\", *pa);\n",
    "    printf(\" *pa+1 = %d\\n\", *pa+1);\n",
    "    printf(\" *pa+2 = %d\\n\", *pa+2);\n",
    "    return 0;\n",
    "}\n"
   ]
  },
  {
   "cell_type": "code",
   "execution_count": 18,
   "id": "0ff23252",
   "metadata": {
    "slideshow": {
     "slide_type": "slide"
    }
   },
   "outputs": [
    {
     "name": "stdout",
     "output_type": "stream",
     "text": [
      " *pa = 3\r\n",
      " *pa+1 = 4\r\n",
      " *pa+2 = 5\r\n"
     ]
    }
   ],
   "source": [
    "!gcc -ansi example08.c -o example08\n",
    "!./example08"
   ]
  },
  {
   "cell_type": "markdown",
   "id": "3d8921c6",
   "metadata": {
    "slideshow": {
     "slide_type": "slide"
    }
   },
   "source": [
    "![Alt text](part2/output_p2-14.svg)"
   ]
  },
  {
   "cell_type": "markdown",
   "id": "0081fa7c",
   "metadata": {
    "slideshow": {
     "slide_type": "slide"
    }
   },
   "source": [
    "![Alt text](part2/output_p2-15.svg)"
   ]
  },
  {
   "cell_type": "markdown",
   "id": "9898762e",
   "metadata": {
    "slideshow": {
     "slide_type": "slide"
    }
   },
   "source": [
    "![Alt text](part2/output_p2-16.svg)"
   ]
  },
  {
   "cell_type": "code",
   "execution_count": 54,
   "id": "16951468",
   "metadata": {
    "slideshow": {
     "slide_type": "slide"
    }
   },
   "outputs": [
    {
     "name": "stdout",
     "output_type": "stream",
     "text": [
      "Overwriting example09.c\n"
     ]
    }
   ],
   "source": [
    "%%writefile example09.c\n",
    "\n",
    "#include<stdio.h>\n",
    "\n",
    "int main(){\n",
    "    \n",
    "    char *c = \"Hello\";\n",
    "    printf(\"%s \", c);\n",
    "    \n",
    "    return 0;\n",
    "}\n"
   ]
  },
  {
   "cell_type": "code",
   "execution_count": 55,
   "id": "c58c2bf0",
   "metadata": {
    "slideshow": {
     "slide_type": "slide"
    }
   },
   "outputs": [
    {
     "name": "stdout",
     "output_type": "stream",
     "text": [
      "Hello "
     ]
    }
   ],
   "source": [
    "!gcc -ansi example09.c -o example09\n",
    "!./example09"
   ]
  },
  {
   "cell_type": "markdown",
   "id": "9c94c79b",
   "metadata": {
    "slideshow": {
     "slide_type": "slide"
    }
   },
   "source": [
    "![Alt text](part2/output_p2-17.svg)"
   ]
  },
  {
   "cell_type": "markdown",
   "id": "4eee14f5",
   "metadata": {
    "slideshow": {
     "slide_type": "slide"
    }
   },
   "source": [
    "![Alt text](part2/output_p2-18.svg)"
   ]
  },
  {
   "cell_type": "markdown",
   "id": "5996148e",
   "metadata": {
    "slideshow": {
     "slide_type": "slide"
    }
   },
   "source": [
    "![Alt text](part2/output_p2-19.svg)"
   ]
  },
  {
   "cell_type": "code",
   "execution_count": 57,
   "id": "08192391",
   "metadata": {
    "slideshow": {
     "slide_type": "slide"
    }
   },
   "outputs": [
    {
     "name": "stdout",
     "output_type": "stream",
     "text": [
      "Overwriting example10.c\n"
     ]
    }
   ],
   "source": [
    "%%writefile example10.c\n",
    "\n",
    "#include<stdio.h>\n",
    "\n",
    "int main(){\n",
    "    char *months[] = {\"January\", \"February\", \"March\"};\n",
    "    \n",
    "    printf(\"Content of months[0] = %p\\n\", months[0]);\n",
    "    printf(\"Content of months[1] = %p\\n\", months[1]);\n",
    "    printf(\"Content of months[2] = %p\\n\", months[2]);\n",
    "    \n",
    "    printf(\"Data pointed by months[0], months[1], months[2] = %s, %s, %s\\n\", \n",
    "           months[0], months[1], months[2]);\n",
    "    \n",
    "    return 0;\n",
    "}"
   ]
  },
  {
   "cell_type": "code",
   "execution_count": 58,
   "id": "50e233f4",
   "metadata": {
    "slideshow": {
     "slide_type": "slide"
    }
   },
   "outputs": [
    {
     "name": "stdout",
     "output_type": "stream",
     "text": [
      "Content of months[0] = 0x105dbaf04\r\n",
      "Content of months[1] = 0x105dbaf0c\r\n",
      "Content of months[2] = 0x105dbaf15\r\n",
      "Data pointed by months[0], months[1], months[2] = January, February, March\r\n"
     ]
    }
   ],
   "source": [
    "!gcc -ansi example10.c -o example10\n",
    "!./example10"
   ]
  },
  {
   "cell_type": "markdown",
   "id": "9594676a",
   "metadata": {
    "slideshow": {
     "slide_type": "slide"
    }
   },
   "source": [
    "![Alt text](part2/output_p2-20.svg)"
   ]
  },
  {
   "cell_type": "markdown",
   "id": "3137298b",
   "metadata": {
    "slideshow": {
     "slide_type": "slide"
    }
   },
   "source": [
    "![Alt text](part2/output_p2-21.svg)"
   ]
  },
  {
   "cell_type": "markdown",
   "id": "ff37cf6e",
   "metadata": {
    "slideshow": {
     "slide_type": "slide"
    }
   },
   "source": [
    "![Alt text](part2/output_p2-22.svg)"
   ]
  },
  {
   "cell_type": "code",
   "execution_count": 59,
   "id": "d831794c",
   "metadata": {
    "slideshow": {
     "slide_type": "slide"
    }
   },
   "outputs": [
    {
     "name": "stdout",
     "output_type": "stream",
     "text": [
      "Overwriting example11.c\n"
     ]
    }
   ],
   "source": [
    "%%writefile example11.c\n",
    "\n",
    "#include<stdio.h>\n",
    "\n",
    "int main(){\n",
    "    int  a[5] = {3, 6, 9, 12, 15}; \n",
    "    int  *pa; int  *qa;\n",
    "\n",
    "    pa = &a[0];\n",
    "    qa = &a[2];\n",
    "\n",
    "    printf(\" qa-pa = %ld\\n\", qa-pa);\n",
    "    printf(\" qa>=pa? = %d\\n\", qa >= pa);\n",
    "    printf(\" qa==0? = %d\\n\", qa == 0);\n",
    "    return 0;\n",
    "}\n"
   ]
  },
  {
   "cell_type": "code",
   "execution_count": 60,
   "id": "4731cbc6",
   "metadata": {
    "slideshow": {
     "slide_type": "slide"
    }
   },
   "outputs": [
    {
     "name": "stdout",
     "output_type": "stream",
     "text": [
      " qa-pa = 2\r\n",
      " qa>=pa? = 1\r\n",
      " qa==0? = 0\r\n"
     ]
    }
   ],
   "source": [
    "!gcc -ansi example11.c -o example11\n",
    "!./example11"
   ]
  },
  {
   "cell_type": "markdown",
   "id": "150c8597",
   "metadata": {
    "slideshow": {
     "slide_type": "slide"
    }
   },
   "source": [
    "![Alt text](part2/output_p2-23.svg)"
   ]
  },
  {
   "cell_type": "markdown",
   "id": "2587cac5",
   "metadata": {
    "slideshow": {
     "slide_type": "slide"
    }
   },
   "source": [
    "![Alt text](part2/output_p2-24.svg)"
   ]
  },
  {
   "cell_type": "code",
   "execution_count": 62,
   "id": "b140e300",
   "metadata": {
    "slideshow": {
     "slide_type": "slide"
    }
   },
   "outputs": [
    {
     "name": "stdout",
     "output_type": "stream",
     "text": [
      "Overwriting example12.c\n"
     ]
    }
   ],
   "source": [
    "%%writefile example12.c\n",
    "\n",
    "#include<stdio.h>\n",
    "\n",
    "void increment(int i){\n",
    "    i = i+1;\n",
    "}\n",
    "\n",
    "int main(){\n",
    "    int  i = 10;\n",
    "    increment(i);\n",
    "    printf(\"i = %d\\n\",i);\n",
    "    \n",
    "    return 0;\n",
    "}\n"
   ]
  },
  {
   "cell_type": "code",
   "execution_count": 63,
   "id": "2078959a",
   "metadata": {
    "slideshow": {
     "slide_type": "slide"
    }
   },
   "outputs": [
    {
     "name": "stdout",
     "output_type": "stream",
     "text": [
      "i = 10\r\n"
     ]
    }
   ],
   "source": [
    "!gcc -ansi example12.c -o example12\n",
    "!./example12"
   ]
  },
  {
   "cell_type": "code",
   "execution_count": 65,
   "id": "64983403",
   "metadata": {
    "slideshow": {
     "slide_type": "slide"
    }
   },
   "outputs": [
    {
     "name": "stdout",
     "output_type": "stream",
     "text": [
      "Overwriting example13.c\n"
     ]
    }
   ],
   "source": [
    "%%writefile example13.c\n",
    "\n",
    "#include<stdio.h>\n",
    "\n",
    "void increment(int i){\n",
    "    i = i+1;\n",
    "    printf(\"Address of variable i in the increment function %p\\n\", &i);\n",
    "}\n",
    "\n",
    "int main(){\n",
    "    int  i = 10;\n",
    "    increment(i);\n",
    "    printf(\"Address of variable i in the main function      %p\\n\", &i);\n",
    "    return 0;\n",
    "}\n"
   ]
  },
  {
   "cell_type": "code",
   "execution_count": 66,
   "id": "eed4afb3",
   "metadata": {
    "slideshow": {
     "slide_type": "slide"
    }
   },
   "outputs": [
    {
     "name": "stdout",
     "output_type": "stream",
     "text": [
      "Address of variable i in the increment function 0x7ff7b096679c\r\n",
      "Address of variable i in the main function      0x7ff7b09667b8\r\n"
     ]
    }
   ],
   "source": [
    "!gcc -ansi example13.c -o example13\n",
    "!./example13"
   ]
  },
  {
   "cell_type": "markdown",
   "id": "af16263a",
   "metadata": {
    "slideshow": {
     "slide_type": "slide"
    }
   },
   "source": [
    "![Alt text](part2/output_p2-25.svg)"
   ]
  },
  {
   "cell_type": "markdown",
   "id": "e8840481",
   "metadata": {
    "slideshow": {
     "slide_type": "slide"
    }
   },
   "source": [
    "![Alt text](part2/output_p2-26.svg)"
   ]
  },
  {
   "cell_type": "markdown",
   "id": "fe5f0424",
   "metadata": {
    "slideshow": {
     "slide_type": "slide"
    }
   },
   "source": [
    "![Alt text](part2/output_p2-27.svg)"
   ]
  },
  {
   "cell_type": "markdown",
   "id": "324f17e6",
   "metadata": {
    "slideshow": {
     "slide_type": "slide"
    }
   },
   "source": [
    "![Alt text](part2/output_p2-28.svg)"
   ]
  },
  {
   "cell_type": "markdown",
   "id": "34117808",
   "metadata": {
    "slideshow": {
     "slide_type": "slide"
    }
   },
   "source": [
    "![Alt text](part2/output_p2-29.svg)"
   ]
  },
  {
   "cell_type": "markdown",
   "id": "cad76005",
   "metadata": {
    "slideshow": {
     "slide_type": "slide"
    }
   },
   "source": [
    "![Alt text](part2/output_p2-30.svg)"
   ]
  },
  {
   "cell_type": "code",
   "execution_count": 67,
   "id": "01669d36",
   "metadata": {
    "slideshow": {
     "slide_type": "slide"
    }
   },
   "outputs": [
    {
     "name": "stdout",
     "output_type": "stream",
     "text": [
      "Overwriting example14.c\n"
     ]
    }
   ],
   "source": [
    "%%writefile example14.c\n",
    "\n",
    "#include<stdio.h>\n",
    "\n",
    "void increment(int *i){\n",
    "    (*i) = (*i) + 1;\n",
    "}\n",
    "\n",
    "int main(){\n",
    "    int  i = 10;\n",
    "    increment(&i);\n",
    "    printf(\"i = %d\\n\",i);\n",
    "    \n",
    "    return 0;\n",
    "}\n"
   ]
  },
  {
   "cell_type": "code",
   "execution_count": 68,
   "id": "ca6be344",
   "metadata": {
    "slideshow": {
     "slide_type": "slide"
    }
   },
   "outputs": [
    {
     "name": "stdout",
     "output_type": "stream",
     "text": [
      "i = 11\r\n"
     ]
    }
   ],
   "source": [
    "!gcc -ansi example14.c -o example14\n",
    "!./example14"
   ]
  },
  {
   "cell_type": "code",
   "execution_count": 69,
   "id": "1036aa8d",
   "metadata": {
    "scrolled": false,
    "slideshow": {
     "slide_type": "slide"
    }
   },
   "outputs": [
    {
     "name": "stdout",
     "output_type": "stream",
     "text": [
      "Overwriting example15.c\n"
     ]
    }
   ],
   "source": [
    "%%writefile example15.c\n",
    "\n",
    "#include <stdio.h>\n",
    "#include <stdlib.h>\n",
    "\n",
    "int G = 0;                        /* a global variable, stored in BSS segment */\n",
    "\n",
    "int main(int argc, char **argv){\n",
    "       static int s;              /* static local variable, stored in Block start symbol segment */\n",
    "       int a;                     /* automatic variable, stored on stack */\n",
    "       int *p;                    /* pointer variable for malloc below */ \n",
    "                                  /* obtain a block big enough for one int from the heap */\n",
    "       p = malloc(sizeof(int));\n",
    "       \n",
    "       printf(\"&G   = %p\\n\", &G);\n",
    "       printf(\"&s   = %p\\n\", &s);\n",
    "       printf(\"&a   = %p\\n\", &a);\n",
    "       printf(\"&p   = %p\\n\", &p);\n",
    "       printf(\"p    = %p\\n\", p);\n",
    "       printf(\"main = %p\\n\", main);\n",
    "       \n",
    "       free(p); \n",
    "       return 0;\n",
    "  }"
   ]
  },
  {
   "cell_type": "code",
   "execution_count": 70,
   "id": "3073215e",
   "metadata": {
    "slideshow": {
     "slide_type": "slide"
    }
   },
   "outputs": [
    {
     "name": "stdout",
     "output_type": "stream",
     "text": [
      "&G   = 0x102d90020\r\n",
      "&s   = 0x102d90024\r\n",
      "&a   = 0x7ff7bd1777ac\r\n",
      "&p   = 0x7ff7bd1777a0\r\n",
      "p    = 0x600002688030\r\n",
      "main = 0x102d8be80\r\n"
     ]
    }
   ],
   "source": [
    "!gcc -ansi example15.c -o example15\n",
    "!./example15"
   ]
  },
  {
   "cell_type": "markdown",
   "id": "9e14f4b9",
   "metadata": {
    "slideshow": {
     "slide_type": "slide"
    }
   },
   "source": [
    "![Alt text](part2/output_p2-31.svg)"
   ]
  },
  {
   "cell_type": "markdown",
   "id": "984bd2b4",
   "metadata": {
    "slideshow": {
     "slide_type": "slide"
    }
   },
   "source": [
    "![Alt text](part2/output_p2-32.svg)"
   ]
  },
  {
   "cell_type": "code",
   "execution_count": 71,
   "id": "e71103c8",
   "metadata": {
    "slideshow": {
     "slide_type": "slide"
    }
   },
   "outputs": [
    {
     "name": "stdout",
     "output_type": "stream",
     "text": [
      "Overwriting example16.c\n"
     ]
    }
   ],
   "source": [
    "%%writefile example16.c\n",
    "\n",
    "#include<stdio.h>\n",
    "\n",
    "int main(int argc, char* argv[]){\n",
    "            \n",
    "            printf(\"Total number of arguments = %d\\n\", argc);\n",
    "            \n",
    "            while(--argc > 0)\n",
    "                printf(\"%s%s\", *++argv, (argc > 1)? \" \" :\"\");\n",
    "    \n",
    "            return 0;\n",
    "}"
   ]
  },
  {
   "cell_type": "code",
   "execution_count": 72,
   "id": "a362dfb0",
   "metadata": {
    "slideshow": {
     "slide_type": "slide"
    }
   },
   "outputs": [
    {
     "name": "stdout",
     "output_type": "stream",
     "text": [
      "Total number of arguments = 5\r\n",
      "hello world from Maine"
     ]
    }
   ],
   "source": [
    "!gcc -ansi example16.c -o example16\n",
    "!./example16 hello world from Maine"
   ]
  },
  {
   "cell_type": "markdown",
   "id": "305e25e0",
   "metadata": {
    "slideshow": {
     "slide_type": "slide"
    }
   },
   "source": [
    "![Alt text](part2/output_p2-33.svg)"
   ]
  },
  {
   "cell_type": "markdown",
   "id": "dae77684",
   "metadata": {
    "slideshow": {
     "slide_type": "slide"
    }
   },
   "source": [
    "![Alt text](part2/output_p2-34.svg)"
   ]
  },
  {
   "cell_type": "code",
   "execution_count": 41,
   "id": "ea7e32f9",
   "metadata": {
    "slideshow": {
     "slide_type": "slide"
    }
   },
   "outputs": [
    {
     "name": "stdout",
     "output_type": "stream",
     "text": [
      "Overwriting example17.c\n"
     ]
    }
   ],
   "source": [
    "%%writefile example17.c\n",
    "\n",
    "#include<stdio.h>\n",
    "#include<stdlib.h>\n",
    "\n",
    "void cstrcpy(char *t, char *s){\n",
    "    while(*s != '0'){\n",
    "        *t = *s;\n",
    "        s++;\n",
    "        t++;\n",
    "    }\n",
    "}\n",
    "\n",
    "int main(){\n",
    "    char *pm1 = \"Hello\";\n",
    "    char *pm2 = (char*)malloc(6*sizeof(char)); \n",
    "    \n",
    "    \n",
    "    cstrcpy(pm2, pm1);\n",
    "    \n",
    "    printf(\"The original data = %s\\n\", pm1);\n",
    "    printf(\"The copied data = %s\\n\", pm2);\n",
    "    \n",
    "    free(pm2);\n",
    "    \n",
    "    return 0;\n",
    "}"
   ]
  },
  {
   "cell_type": "code",
   "execution_count": 42,
   "id": "df1fdef6",
   "metadata": {
    "slideshow": {
     "slide_type": "slide"
    }
   },
   "outputs": [
    {
     "name": "stdout",
     "output_type": "stream",
     "text": [
      "The original data = Hello\r\n",
      "The copied data = Hello\r\n"
     ]
    }
   ],
   "source": [
    "!gcc -ansi example17.c -o example17\n",
    "!./example17"
   ]
  },
  {
   "cell_type": "code",
   "execution_count": 43,
   "id": "50081e33",
   "metadata": {
    "slideshow": {
     "slide_type": "slide"
    }
   },
   "outputs": [
    {
     "name": "stdout",
     "output_type": "stream",
     "text": [
      "Overwriting example18.c\n"
     ]
    }
   ],
   "source": [
    "%%writefile example18.c\n",
    "\n",
    "#include<stdio.h>\n",
    "#include<stdlib.h>\n",
    "\n",
    "void cstrcpy(char *t, char *s){\n",
    "    while(*t++ = *s++){\n",
    "        ;\n",
    "    }\n",
    "}\n",
    "\n",
    "int main(){\n",
    "    char *pm1 = \"Hello\";\n",
    "    char *pm2 = (char*)malloc(6*sizeof(char)); \n",
    "    \n",
    "    \n",
    "    cstrcpy(pm2, pm1);\n",
    "    \n",
    "    printf(\"The original data = %s\\n\", pm1);\n",
    "    printf(\"The copied data = %s\\n\", pm2);\n",
    "    \n",
    "    free(pm2);\n",
    "    \n",
    "    return 0;\n",
    "}"
   ]
  },
  {
   "cell_type": "code",
   "execution_count": 44,
   "id": "c151e01c",
   "metadata": {
    "slideshow": {
     "slide_type": "slide"
    }
   },
   "outputs": [
    {
     "name": "stdout",
     "output_type": "stream",
     "text": [
      "The original data = Hello\r\n",
      "The copied data = Hello\r\n"
     ]
    }
   ],
   "source": [
    "!gcc -ansi -Wno-parentheses example18.c -o example18\n",
    "!./example18"
   ]
  },
  {
   "cell_type": "code",
   "execution_count": 37,
   "id": "279d5cef",
   "metadata": {
    "slideshow": {
     "slide_type": "slide"
    }
   },
   "outputs": [
    {
     "name": "stdout",
     "output_type": "stream",
     "text": [
      "Overwriting example19.c\n"
     ]
    }
   ],
   "source": [
    "%%writefile example19.c\n",
    "\n",
    "#include<stdio.h>\n",
    "\n",
    "int cstrlen(char *s){\n",
    "    char *p = s;\n",
    "    while(*++p){\n",
    "        ;\n",
    "    }\n",
    "    return p - s;\n",
    "}\n",
    "\n",
    "int main(){\n",
    "    char *pm = \"Hello\";\n",
    "    \n",
    "    printf(\"Length of the string = %d\\n\", cstrlen(pm));\n",
    "    \n",
    "    \n",
    "    return 0;\n",
    "}"
   ]
  },
  {
   "cell_type": "code",
   "execution_count": 38,
   "id": "b5b1ef5d",
   "metadata": {
    "slideshow": {
     "slide_type": "slide"
    }
   },
   "outputs": [
    {
     "name": "stdout",
     "output_type": "stream",
     "text": [
      "Length of the string = 5\r\n"
     ]
    }
   ],
   "source": [
    "!gcc -ansi  example19.c -o example19\n",
    "!./example19"
   ]
  },
  {
   "cell_type": "code",
   "execution_count": 74,
   "id": "cf297ae5",
   "metadata": {
    "slideshow": {
     "slide_type": "slide"
    }
   },
   "outputs": [
    {
     "name": "stdout",
     "output_type": "stream",
     "text": [
      "Overwriting example20.c\n"
     ]
    }
   ],
   "source": [
    "%%writefile example20.c\n",
    "\n",
    "// Function pointers\n",
    "\n",
    "#include<stdio.h>\n",
    "\n",
    "\n",
    "int add(int a, int b) {return a+b;}\n",
    "int mul(int a, int b) {return a*b;}\n",
    "\n",
    "void exec(int (*fun)(int, int)){\n",
    "    printf(\"The result is %d\\n\", fun(5,7));\n",
    "}\n",
    "\n",
    "int main(){\n",
    "    \n",
    "    int (*func_pt) (int, int);\n",
    "    func_pt = &add;\n",
    "    \n",
    "    printf(\"The result is %d\\n\", func_pt(5,7));\n",
    "    \n",
    "    exec(add);\n",
    "    exec(mul);\n",
    "    return 0;\n",
    "}"
   ]
  },
  {
   "cell_type": "code",
   "execution_count": 75,
   "id": "d9009d30",
   "metadata": {
    "slideshow": {
     "slide_type": "slide"
    }
   },
   "outputs": [
    {
     "name": "stdout",
     "output_type": "stream",
     "text": [
      "The result is 12\r\n",
      "The result is 12\r\n",
      "The result is 35\r\n"
     ]
    }
   ],
   "source": [
    "!gcc -ansi  example20.c -o example20\n",
    "!./example20"
   ]
  },
  {
   "cell_type": "code",
   "execution_count": 103,
   "id": "f04353fb",
   "metadata": {},
   "outputs": [
    {
     "name": "stdout",
     "output_type": "stream",
     "text": [
      "Overwriting example21.c\n"
     ]
    }
   ],
   "source": [
    "%%writefile example21.c\n",
    "#include<stdio.h>\n",
    "\n",
    "\n",
    "\n",
    "int main(){\n",
    "    \n",
    "    int x = 10;\n",
    "    int *y = &x;\n",
    "    \n",
    "    printf(\"*y = %d\\n\", *y);\n",
    "    \n",
    "    int *z = y;\n",
    "    printf(\"*z = %d\\n\", *z);\n",
    "    \n",
    "    int *s;\n",
    "    *s = 2;\n",
    "    z = s;\n",
    "    printf(\"*z = %d\\n\", *z);\n",
    "    printf(\"z = %p\\n\", z);\n",
    "    printf(\"s = %p\\n\", s);\n",
    "    \n",
    "    *z = *y;\n",
    "    printf(\"*z = %d\\n\", *z);\n",
    "    printf(\"z = %p\\n\", z);\n",
    "    printf(\"y = %p\\n\", y);\n",
    "    \n",
    "    return 0;\n",
    "}"
   ]
  },
  {
   "cell_type": "code",
   "execution_count": 104,
   "id": "dc521657",
   "metadata": {},
   "outputs": [
    {
     "name": "stdout",
     "output_type": "stream",
     "text": [
      "*y = 10\r\n",
      "*z = 10\r\n",
      "*z = 2\r\n",
      "z = 0x7ff7ba28f7c0\r\n",
      "s = 0x7ff7ba28f7c0\r\n",
      "*z = 10\r\n",
      "z = 0x7ff7ba28f7c0\r\n",
      "y = 0x7ff7ba28f7b8\r\n"
     ]
    }
   ],
   "source": [
    "!gcc -ansi  example21.c -o example21\n",
    "!./example21"
   ]
  },
  {
   "cell_type": "code",
   "execution_count": null,
   "id": "64f025fe",
   "metadata": {},
   "outputs": [],
   "source": []
  }
 ],
 "metadata": {
  "celltoolbar": "Slideshow",
  "kernelspec": {
   "display_name": "Python 3 (ipykernel)",
   "language": "python",
   "name": "python3"
  },
  "language_info": {
   "codemirror_mode": {
    "name": "ipython",
    "version": 3
   },
   "file_extension": ".py",
   "mimetype": "text/x-python",
   "name": "python",
   "nbconvert_exporter": "python",
   "pygments_lexer": "ipython3",
   "version": "3.9.1"
  },
  "rise": {
   "theme": "none",
   "transition": "none"
  }
 },
 "nbformat": 4,
 "nbformat_minor": 5
}
