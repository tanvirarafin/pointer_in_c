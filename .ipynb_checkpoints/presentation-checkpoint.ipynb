{
 "cells": [
  {
   "cell_type": "markdown",
   "id": "01519a51",
   "metadata": {
    "hideCode": true,
    "hideOutput": false,
    "hidePrompt": true,
    "slideshow": {
     "slide_type": "slide"
    }
   },
   "source": [
    "![Alt text](part1/output-01.svg)"
   ]
  },
  {
   "cell_type": "markdown",
   "id": "8beb9e83",
   "metadata": {
    "hideCode": true,
    "hidePrompt": true,
    "slideshow": {
     "slide_type": "slide"
    }
   },
   "source": [
    "![Alt text](part1/output-02.svg)"
   ]
  },
  {
   "cell_type": "markdown",
   "id": "f748510a",
   "metadata": {
    "hideCode": true,
    "hidePrompt": true,
    "slideshow": {
     "slide_type": "slide"
    }
   },
   "source": [
    "![Alt text](part1/output-03.svg)"
   ]
  },
  {
   "cell_type": "markdown",
   "id": "a61c3f52",
   "metadata": {
    "hideCode": true,
    "hidePrompt": true,
    "slideshow": {
     "slide_type": "slide"
    }
   },
   "source": [
    "![Alt text](part1/output-04.svg)"
   ]
  },
  {
   "cell_type": "markdown",
   "id": "9eada357",
   "metadata": {
    "hideCode": true,
    "hidePrompt": true,
    "slideshow": {
     "slide_type": "slide"
    }
   },
   "source": [
    "![Alt text](part1/output-06.svg)"
   ]
  },
  {
   "cell_type": "markdown",
   "id": "53852209",
   "metadata": {
    "hideCode": true,
    "hidePrompt": true,
    "slideshow": {
     "slide_type": "slide"
    }
   },
   "source": [
    "![Alt text](part1/output-08.svg)"
   ]
  },
  {
   "cell_type": "markdown",
   "id": "b025bd26",
   "metadata": {
    "hideCode": true,
    "hidePrompt": true,
    "slideshow": {
     "slide_type": "slide"
    }
   },
   "source": [
    "![Alt text](part1/output-09.svg)"
   ]
  },
  {
   "cell_type": "markdown",
   "id": "87182222",
   "metadata": {
    "hideCode": true,
    "hidePrompt": true,
    "slideshow": {
     "slide_type": "slide"
    }
   },
   "source": [
    "![Alt text](part1/output-10.svg)"
   ]
  },
  {
   "cell_type": "markdown",
   "id": "0e119c8d",
   "metadata": {
    "hideCode": true,
    "hidePrompt": true,
    "slideshow": {
     "slide_type": "slide"
    }
   },
   "source": [
    "![Alt text](part1/output-11.svg)"
   ]
  },
  {
   "cell_type": "markdown",
   "id": "3fd58199",
   "metadata": {
    "hideCode": true,
    "hidePrompt": true,
    "slideshow": {
     "slide_type": "slide"
    }
   },
   "source": [
    "![Alt text](part1/output-12.svg)"
   ]
  },
  {
   "cell_type": "markdown",
   "id": "c0a55595",
   "metadata": {
    "hideCode": true,
    "hidePrompt": true,
    "slideshow": {
     "slide_type": "slide"
    }
   },
   "source": [
    "![Alt text](part1/output-13.svg)"
   ]
  },
  {
   "cell_type": "markdown",
   "id": "ee587976",
   "metadata": {
    "hideCode": true,
    "hidePrompt": true,
    "slideshow": {
     "slide_type": "slide"
    }
   },
   "source": [
    "![Alt text](part1/output-14.svg)"
   ]
  },
  {
   "cell_type": "markdown",
   "id": "9c3c74a6",
   "metadata": {
    "hideCode": true,
    "hidePrompt": true,
    "slideshow": {
     "slide_type": "slide"
    }
   },
   "source": [
    "![Alt text](part1/output-15.svg)"
   ]
  },
  {
   "cell_type": "markdown",
   "id": "fe09e64c",
   "metadata": {
    "hideCode": true,
    "hidePrompt": true,
    "slideshow": {
     "slide_type": "slide"
    }
   },
   "source": [
    "![Alt text](part1/output-16.svg)"
   ]
  },
  {
   "cell_type": "markdown",
   "id": "78ced20e",
   "metadata": {
    "hideCode": true,
    "hidePrompt": true,
    "slideshow": {
     "slide_type": "slide"
    }
   },
   "source": [
    "![Alt text](part1/output-17.svg)"
   ]
  },
  {
   "cell_type": "markdown",
   "id": "014c9ff2",
   "metadata": {
    "hideCode": true,
    "hidePrompt": true,
    "slideshow": {
     "slide_type": "slide"
    }
   },
   "source": [
    "![Alt text](part1/output-18.svg)"
   ]
  },
  {
   "cell_type": "markdown",
   "id": "04691a6b",
   "metadata": {
    "hideCode": true,
    "hidePrompt": true,
    "slideshow": {
     "slide_type": "slide"
    }
   },
   "source": [
    "![Alt text](part1/output-19.svg)"
   ]
  },
  {
   "cell_type": "markdown",
   "id": "54e69790",
   "metadata": {
    "hideCode": true,
    "hidePrompt": true,
    "slideshow": {
     "slide_type": "slide"
    }
   },
   "source": [
    "![Alt text](part1/output-20.svg)"
   ]
  },
  {
   "cell_type": "code",
   "execution_count": 1,
   "id": "4f0d8caf",
   "metadata": {
    "hideCode": false,
    "hidePrompt": false,
    "slideshow": {
     "slide_type": "slide"
    }
   },
   "outputs": [
    {
     "name": "stdout",
     "output_type": "stream",
     "text": [
      "Overwriting example01.c\n"
     ]
    }
   ],
   "source": [
    "%%writefile example01.c\n",
    "\n",
    "#include <stdio.h>\n",
    "\n",
    "int main(){\n",
    "        char c; \n",
    "        char* p;\n",
    "\n",
    "        c = 'A';\n",
    "        p = &c;\n",
    "    \n",
    "        printf(\"c = %c\\n\", c);\n",
    "        printf(\"p = %p\\n\", p);\n",
    "        return 0;\n",
    "}\n"
   ]
  },
  {
   "cell_type": "code",
   "execution_count": 2,
   "id": "22e4e83b",
   "metadata": {
    "scrolled": true,
    "slideshow": {
     "slide_type": "-"
    }
   },
   "outputs": [
    {
     "name": "stdout",
     "output_type": "stream",
     "text": [
      "c = A\r\n",
      "p = 0x7ff7b42187bb\r\n"
     ]
    }
   ],
   "source": [
    "!gcc -ansi example01.c -o example01\n",
    "!./example01"
   ]
  },
  {
   "cell_type": "code",
   "execution_count": 3,
   "id": "89aaabe8",
   "metadata": {
    "scrolled": false,
    "slideshow": {
     "slide_type": "slide"
    }
   },
   "outputs": [
    {
     "name": "stdout",
     "output_type": "stream",
     "text": [
      "Overwriting example02.c\n"
     ]
    }
   ],
   "source": [
    "%%writefile example02.c\n",
    "\n",
    "#include <stdio.h>\n",
    "\n",
    "int main(){\n",
    "        char c; \n",
    "        char* p;\n",
    "        char** q;\n",
    "\n",
    "        c = 'A';\n",
    "        p = &c;\n",
    "        q = &p;\n",
    "    \n",
    "        printf(\"c = %c\\n\", c);\n",
    "        printf(\"p = %p\\n\", p);\n",
    "        printf(\"q = %p\\n\", q);\n",
    "        return 0;\n",
    "}"
   ]
  },
  {
   "cell_type": "code",
   "execution_count": 4,
   "id": "a4a477d2",
   "metadata": {
    "scrolled": false
   },
   "outputs": [
    {
     "name": "stdout",
     "output_type": "stream",
     "text": [
      "c = A\r\n",
      "p = 0x7ff7b0fa07bb\r\n",
      "q = 0x7ff7b0fa07b0\r\n"
     ]
    }
   ],
   "source": [
    "!gcc -ansi example02.c -o example02\n",
    "!./example02"
   ]
  },
  {
   "cell_type": "markdown",
   "id": "66a2c483",
   "metadata": {
    "slideshow": {
     "slide_type": "slide"
    }
   },
   "source": [
    "![Alt text](part2/output_p2-01.svg)"
   ]
  },
  {
   "cell_type": "markdown",
   "id": "0d2d6003",
   "metadata": {
    "slideshow": {
     "slide_type": "slide"
    }
   },
   "source": [
    "![Alt text](part2/output_p2-02.svg)"
   ]
  },
  {
   "cell_type": "markdown",
   "id": "a8133334",
   "metadata": {
    "slideshow": {
     "slide_type": "slide"
    }
   },
   "source": [
    "![Alt text](part2/output_p2-03.svg)"
   ]
  },
  {
   "cell_type": "markdown",
   "id": "9a84f30b",
   "metadata": {},
   "source": [
    "![Alt text](part2/output_p2-05.svg)"
   ]
  },
  {
   "cell_type": "markdown",
   "id": "a4768fd8",
   "metadata": {
    "slideshow": {
     "slide_type": "slide"
    }
   },
   "source": [
    "![Alt text](part2/output_p2-06.svg)"
   ]
  },
  {
   "cell_type": "markdown",
   "id": "c9dc265e",
   "metadata": {
    "slideshow": {
     "slide_type": "slide"
    }
   },
   "source": [
    "![Alt text](part2/output_p2-07.svg)"
   ]
  },
  {
   "cell_type": "code",
   "execution_count": 5,
   "id": "2c4610a6",
   "metadata": {
    "slideshow": {
     "slide_type": "slide"
    }
   },
   "outputs": [
    {
     "name": "stdout",
     "output_type": "stream",
     "text": [
      "Overwriting example03.c\n"
     ]
    }
   ],
   "source": [
    "%%writefile example03.c\n",
    "\n",
    "#include <stdio.h>\n",
    "\n",
    "int main(){\n",
    "        char c; \n",
    "        char* p;\n",
    "        char** q;\n",
    "\n",
    "        c = 'A';\n",
    "        p = &c;\n",
    "        q = &p;\n",
    "    \n",
    "        printf(\"c = %c\\n\", c);\n",
    "        printf(\"p = %p\\n\", p);\n",
    "        printf(\"q = %p\\n\", q);\n",
    "        printf(\"Dereferencing p  gives us = %c\\n\", *p);\n",
    "        printf(\"Dereferencing q  gives us %p\\n\", *q);\n",
    "        printf(\"Dereferencing q  twice gives us %c\\n\", **q);\n",
    "        return 0;\n",
    "    \n",
    "}"
   ]
  },
  {
   "cell_type": "code",
   "execution_count": 6,
   "id": "d1473095",
   "metadata": {
    "slideshow": {
     "slide_type": "slide"
    }
   },
   "outputs": [
    {
     "name": "stdout",
     "output_type": "stream",
     "text": [
      "c = A\r\n",
      "p = 0x7ff7ba92d7bb\r\n",
      "q = 0x7ff7ba92d7b0\r\n",
      "Dereferencing p  gives us = A\r\n",
      "Dereferencing q  gives us 0x7ff7ba92d7bb\r\n",
      "Dereferencing q  twice gives us A\r\n"
     ]
    }
   ],
   "source": [
    "!gcc -ansi example03.c -o example03\n",
    "!./example03"
   ]
  },
  {
   "cell_type": "code",
   "execution_count": 7,
   "id": "ae503d38",
   "metadata": {
    "slideshow": {
     "slide_type": "slide"
    }
   },
   "outputs": [
    {
     "name": "stdout",
     "output_type": "stream",
     "text": [
      "Overwriting example04.c\n"
     ]
    }
   ],
   "source": [
    "%%writefile example04.c\n",
    "\n",
    "#include<stdio.h>\n",
    "\n",
    "int main(){        \n",
    "        int *ip; \n",
    "        int  x = 10;\n",
    "        ip = &x;\n",
    "\n",
    "        printf (\"*ip = %d\\n\", *ip);\n",
    "       \n",
    "        ++*ip; \n",
    "        *ip = *ip*4-2;\n",
    "        \n",
    "        printf (\"x = %d\\n\", x);\n",
    "    \n",
    "return 0;\n",
    "}"
   ]
  },
  {
   "cell_type": "code",
   "execution_count": 8,
   "id": "cca73be4",
   "metadata": {},
   "outputs": [
    {
     "name": "stdout",
     "output_type": "stream",
     "text": [
      "*ip = 10\r\n",
      "x = 42\r\n"
     ]
    }
   ],
   "source": [
    "!gcc -ansi example04.c -o example04\n",
    "!./example04"
   ]
  },
  {
   "cell_type": "code",
   "execution_count": 9,
   "id": "22680556",
   "metadata": {
    "slideshow": {
     "slide_type": "slide"
    }
   },
   "outputs": [
    {
     "name": "stdout",
     "output_type": "stream",
     "text": [
      "Overwriting example05.c\n"
     ]
    }
   ],
   "source": [
    "%%writefile example05.c\n",
    "\n",
    "#include<stdio.h>\n",
    "\n",
    "int main(){        \n",
    "        int *ip; \n",
    "        int  x = 10;\n",
    "        ip = &x;\n",
    "\n",
    "        printf (\"*ip = %d\\n\", *ip);\n",
    "       \n",
    "        *ip++; \n",
    "        (*ip) = (*ip)*4-2;\n",
    "        \n",
    "        printf (\"x = %d\\n\", x);\n",
    "    \n",
    "return 0;\n",
    "}"
   ]
  },
  {
   "cell_type": "code",
   "execution_count": 10,
   "id": "5ba17c77",
   "metadata": {
    "slideshow": {
     "slide_type": "slide"
    }
   },
   "outputs": [
    {
     "name": "stdout",
     "output_type": "stream",
     "text": [
      "\u001b[1mexample05.c:11:9: \u001b[0m\u001b[0;1;35mwarning: \u001b[0m\u001b[1mexpression result unused [-Wunused-value]\u001b[0m\n",
      "        *ip++; \n",
      "\u001b[0;1;32m        ^~~~~\n",
      "\u001b[0m1 warning generated.\n",
      "*ip = 10\n",
      "x = 10\n"
     ]
    }
   ],
   "source": [
    "!gcc -ansi example05.c -o example05\n",
    "!./example05"
   ]
  },
  {
   "cell_type": "code",
   "execution_count": 11,
   "id": "76dbb544",
   "metadata": {
    "slideshow": {
     "slide_type": "slide"
    }
   },
   "outputs": [
    {
     "name": "stdout",
     "output_type": "stream",
     "text": [
      "Overwriting example05.c\n"
     ]
    }
   ],
   "source": [
    "%%writefile example05.c\n",
    "\n",
    "#include<stdio.h>\n",
    "\n",
    "int main(){        \n",
    "        int *ip; \n",
    "        int  x = 10;\n",
    "        ip = &x;\n",
    "\n",
    "        printf (\"*ip = %d\\n\", *ip);\n",
    "       \n",
    "        (*ip)++; // '*' Operator associated from left to right\n",
    "        (*ip) = (*ip)*4-2;\n",
    "        \n",
    "        printf (\"x = %d\\n\", x);\n",
    "    \n",
    "return 0;\n",
    "}"
   ]
  },
  {
   "cell_type": "code",
   "execution_count": 12,
   "id": "5f7c60fa",
   "metadata": {
    "slideshow": {
     "slide_type": "slide"
    }
   },
   "outputs": [
    {
     "name": "stdout",
     "output_type": "stream",
     "text": [
      "*ip = 10\r\n",
      "x = 42\r\n"
     ]
    }
   ],
   "source": [
    "!gcc -ansi example05.c -o example05\n",
    "!./example05"
   ]
  },
  {
   "cell_type": "markdown",
   "id": "a6d57d57",
   "metadata": {
    "slideshow": {
     "slide_type": "slide"
    }
   },
   "source": [
    "![Alt text](part2/output_p2-08.svg)"
   ]
  },
  {
   "cell_type": "markdown",
   "id": "b57e18cc",
   "metadata": {
    "slideshow": {
     "slide_type": "slide"
    }
   },
   "source": [
    "![Alt text](part2/output_p2-09.svg)"
   ]
  },
  {
   "cell_type": "markdown",
   "id": "91d505ff",
   "metadata": {
    "slideshow": {
     "slide_type": "slide"
    }
   },
   "source": [
    "![Alt text](part2/output_p2-10.svg)"
   ]
  },
  {
   "cell_type": "markdown",
   "id": "2205a9d8",
   "metadata": {
    "slideshow": {
     "slide_type": "slide"
    }
   },
   "source": [
    "![Alt text](part2/output_p2-11.svg)"
   ]
  },
  {
   "cell_type": "markdown",
   "id": "d86845ac",
   "metadata": {
    "slideshow": {
     "slide_type": "slide"
    }
   },
   "source": [
    "![Alt text](part2/output_p2-12.svg)"
   ]
  },
  {
   "cell_type": "markdown",
   "id": "857bbb15",
   "metadata": {
    "slideshow": {
     "slide_type": "slide"
    }
   },
   "source": [
    "![Alt text](part2/output_p2-13.svg)"
   ]
  },
  {
   "cell_type": "code",
   "execution_count": 13,
   "id": "afa45900",
   "metadata": {
    "slideshow": {
     "slide_type": "slide"
    }
   },
   "outputs": [
    {
     "name": "stdout",
     "output_type": "stream",
     "text": [
      "Overwriting example06.c\n"
     ]
    }
   ],
   "source": [
    "%%writefile example06.c\n",
    "\n",
    "#include<stdio.h>\n",
    "\n",
    "int main(){\n",
    "    int  a[5];\n",
    "    int  *pa;\n",
    "    \n",
    "    pa = &a[0];\n",
    "\n",
    "    \n",
    "    *pa = 10; *(pa + 1) = 20; *(pa+2) =30;\n",
    "    \n",
    "    int y = *(pa+2); \n",
    "    \n",
    "    printf(\" y = %d\\n\", y);\n",
    "    return 0;\n",
    "}\n"
   ]
  },
  {
   "cell_type": "code",
   "execution_count": 14,
   "id": "7ef05b0f",
   "metadata": {
    "slideshow": {
     "slide_type": "slide"
    }
   },
   "outputs": [
    {
     "name": "stdout",
     "output_type": "stream",
     "text": [
      " y = 30\r\n"
     ]
    }
   ],
   "source": [
    "!gcc -ansi example06.c -o example06\n",
    "!./example06"
   ]
  },
  {
   "cell_type": "code",
   "execution_count": 15,
   "id": "a449a370",
   "metadata": {
    "slideshow": {
     "slide_type": "slide"
    }
   },
   "outputs": [
    {
     "name": "stdout",
     "output_type": "stream",
     "text": [
      "Overwriting example07.c\n"
     ]
    }
   ],
   "source": [
    "%%writefile example07.c\n",
    "\n",
    "#include<stdio.h>\n",
    "\n",
    "int main(){\n",
    "    int  a[5] = {3, 6, 9, 12, 15}; \n",
    "    int  *pa; \n",
    "    pa = &a[0];\n",
    "\n",
    "    printf(\" *pa = %d\\n\", *pa);\n",
    "    printf(\" *(pa+1) = %d\\n\", *(pa+1));\n",
    "    printf(\" *(pa+2) = %d\\n\", *(pa+2));\n",
    "    return 0;\n",
    "}\n"
   ]
  },
  {
   "cell_type": "code",
   "execution_count": 16,
   "id": "5dacfd9d",
   "metadata": {
    "slideshow": {
     "slide_type": "slide"
    }
   },
   "outputs": [
    {
     "name": "stdout",
     "output_type": "stream",
     "text": [
      " *pa = 3\r\n",
      " *(pa+1) = 6\r\n",
      " *(pa+2) = 9\r\n"
     ]
    }
   ],
   "source": [
    "!gcc -ansi example07.c -o example07\n",
    "!./example07"
   ]
  },
  {
   "cell_type": "code",
   "execution_count": 17,
   "id": "3569d608",
   "metadata": {
    "slideshow": {
     "slide_type": "slide"
    }
   },
   "outputs": [
    {
     "name": "stdout",
     "output_type": "stream",
     "text": [
      "Overwriting example08.c\n"
     ]
    }
   ],
   "source": [
    "%%writefile example08.c\n",
    "\n",
    "#include<stdio.h>\n",
    "\n",
    "int main(){\n",
    "    int  a[5] = {3, 6, 9, 12, 15}; \n",
    "    int  *pa; \n",
    "    pa = &a[0];\n",
    "\n",
    "    printf(\" *pa = %d\\n\", *pa);\n",
    "    printf(\" *pa+1 = %d\\n\", *pa+1);\n",
    "    printf(\" *pa+2 = %d\\n\", *pa+2);\n",
    "    return 0;\n",
    "}\n"
   ]
  },
  {
   "cell_type": "code",
   "execution_count": 18,
   "id": "0ff23252",
   "metadata": {
    "slideshow": {
     "slide_type": "slide"
    }
   },
   "outputs": [
    {
     "name": "stdout",
     "output_type": "stream",
     "text": [
      " *pa = 3\r\n",
      " *pa+1 = 4\r\n",
      " *pa+2 = 5\r\n"
     ]
    }
   ],
   "source": [
    "!gcc -ansi example08.c -o example08\n",
    "!./example08"
   ]
  },
  {
   "cell_type": "markdown",
   "id": "a22a2110",
   "metadata": {
    "slideshow": {
     "slide_type": "slide"
    }
   },
   "source": [
    "![Alt text](part2/output_p2-14.svg)"
   ]
  },
  {
   "cell_type": "markdown",
   "id": "8488d704",
   "metadata": {
    "slideshow": {
     "slide_type": "slide"
    }
   },
   "source": [
    "![Alt text](part2/output_p2-15.svg)"
   ]
  },
  {
   "cell_type": "markdown",
   "id": "9adad882",
   "metadata": {
    "slideshow": {
     "slide_type": "slide"
    }
   },
   "source": [
    "![Alt text](part2/output_p2-16.svg)"
   ]
  },
  {
   "cell_type": "code",
   "execution_count": 19,
   "id": "16951468",
   "metadata": {
    "slideshow": {
     "slide_type": "slide"
    }
   },
   "outputs": [
    {
     "name": "stdout",
     "output_type": "stream",
     "text": [
      "Overwriting example15.c\n"
     ]
    }
   ],
   "source": [
    "%%writefile example15.c\n",
    "\n",
    "#include<stdio.h>\n",
    "\n",
    "int main(){\n",
    "    \n",
    "    char *c = \"Hello\";\n",
    "    printf(\"%s \", c);\n",
    "    \n",
    "    return 0;\n",
    "}\n"
   ]
  },
  {
   "cell_type": "code",
   "execution_count": 20,
   "id": "c58c2bf0",
   "metadata": {
    "slideshow": {
     "slide_type": "slide"
    }
   },
   "outputs": [
    {
     "name": "stdout",
     "output_type": "stream",
     "text": [
      "Hello "
     ]
    }
   ],
   "source": [
    "!gcc -ansi example15.c -o example15\n",
    "!./example15"
   ]
  },
  {
   "cell_type": "markdown",
   "id": "80c26b6d",
   "metadata": {
    "slideshow": {
     "slide_type": "slide"
    }
   },
   "source": [
    "![Alt text](part2/output_p2-17.svg)"
   ]
  },
  {
   "cell_type": "markdown",
   "id": "614d0b18",
   "metadata": {
    "slideshow": {
     "slide_type": "slide"
    }
   },
   "source": [
    "![Alt text](part2/output_p2-18.svg)"
   ]
  },
  {
   "cell_type": "markdown",
   "id": "d97fa69b",
   "metadata": {
    "slideshow": {
     "slide_type": "slide"
    }
   },
   "source": [
    "![Alt text](part2/output_p2-19.svg)"
   ]
  },
  {
   "cell_type": "markdown",
   "id": "0bc6431e",
   "metadata": {
    "slideshow": {
     "slide_type": "slide"
    }
   },
   "source": [
    "![Alt text](part2/output_p2-20.svg)"
   ]
  },
  {
   "cell_type": "markdown",
   "id": "576f3bee",
   "metadata": {
    "slideshow": {
     "slide_type": "slide"
    }
   },
   "source": [
    "![Alt text](part2/output_p2-21.svg)"
   ]
  },
  {
   "cell_type": "markdown",
   "id": "a3b722f4",
   "metadata": {
    "slideshow": {
     "slide_type": "slide"
    }
   },
   "source": [
    "![Alt text](part2/output_p2-22.svg)"
   ]
  },
  {
   "cell_type": "code",
   "execution_count": 21,
   "id": "d831794c",
   "metadata": {
    "slideshow": {
     "slide_type": "slide"
    }
   },
   "outputs": [
    {
     "name": "stdout",
     "output_type": "stream",
     "text": [
      "Overwriting example09.c\n"
     ]
    }
   ],
   "source": [
    "%%writefile example09.c\n",
    "\n",
    "#include<stdio.h>\n",
    "\n",
    "int main(){\n",
    "    int  a[5] = {3, 6, 9, 12, 15}; \n",
    "    int  *pa; int  *qa;\n",
    "\n",
    "    pa = &a[0];\n",
    "    qa = &a[2];\n",
    "\n",
    "    printf(\" qa-pa = %ld\\n\", qa-pa);\n",
    "    printf(\" qa>=pa? = %d\\n\", qa >= pa);\n",
    "    printf(\" qa==0? = %d\\n\", qa == 0);\n",
    "    return 0;\n",
    "}\n"
   ]
  },
  {
   "cell_type": "code",
   "execution_count": 22,
   "id": "4731cbc6",
   "metadata": {
    "slideshow": {
     "slide_type": "slide"
    }
   },
   "outputs": [
    {
     "name": "stdout",
     "output_type": "stream",
     "text": [
      " qa-pa = 2\r\n",
      " qa>=pa? = 1\r\n",
      " qa==0? = 0\r\n"
     ]
    }
   ],
   "source": [
    "!gcc -ansi example09.c -o example09\n",
    "!./example09"
   ]
  },
  {
   "cell_type": "markdown",
   "id": "63cc78c4",
   "metadata": {
    "slideshow": {
     "slide_type": "slide"
    }
   },
   "source": [
    "![Alt text](part2/output_p2-23.svg)"
   ]
  },
  {
   "cell_type": "markdown",
   "id": "d0ef8dd3",
   "metadata": {
    "slideshow": {
     "slide_type": "slide"
    }
   },
   "source": [
    "![Alt text](part2/output_p2-24.svg)"
   ]
  },
  {
   "cell_type": "code",
   "execution_count": 23,
   "id": "b140e300",
   "metadata": {
    "slideshow": {
     "slide_type": "slide"
    }
   },
   "outputs": [
    {
     "name": "stdout",
     "output_type": "stream",
     "text": [
      "Overwriting example11.c\n"
     ]
    }
   ],
   "source": [
    "%%writefile example11.c\n",
    "\n",
    "#include<stdio.h>\n",
    "\n",
    "void increment(int i){\n",
    "    i = i+1;\n",
    "}\n",
    "\n",
    "int main(){\n",
    "    int  i = 10;\n",
    "    increment(i);\n",
    "    printf(\"i = %d\\n\",i);\n",
    "    \n",
    "    return 0;\n",
    "}\n"
   ]
  },
  {
   "cell_type": "code",
   "execution_count": 24,
   "id": "2078959a",
   "metadata": {
    "slideshow": {
     "slide_type": "slide"
    }
   },
   "outputs": [
    {
     "name": "stdout",
     "output_type": "stream",
     "text": [
      "i = 10\r\n"
     ]
    }
   ],
   "source": [
    "!gcc -ansi example11.c -o example11\n",
    "!./example11"
   ]
  },
  {
   "cell_type": "code",
   "execution_count": 25,
   "id": "64983403",
   "metadata": {
    "slideshow": {
     "slide_type": "slide"
    }
   },
   "outputs": [
    {
     "name": "stdout",
     "output_type": "stream",
     "text": [
      "Overwriting example12.c\n"
     ]
    }
   ],
   "source": [
    "%%writefile example12.c\n",
    "\n",
    "#include<stdio.h>\n",
    "\n",
    "void increment(int i){\n",
    "    i = i+1;\n",
    "    printf(\"Address of variable i in the increment function %p\\n\", &i);\n",
    "}\n",
    "\n",
    "int main(){\n",
    "    int  i = 10;\n",
    "    increment(i);\n",
    "    printf(\"Address of variable i in the main function      %p\\n\", &i);\n",
    "    return 0;\n",
    "}\n"
   ]
  },
  {
   "cell_type": "code",
   "execution_count": 26,
   "id": "eed4afb3",
   "metadata": {
    "slideshow": {
     "slide_type": "slide"
    }
   },
   "outputs": [
    {
     "name": "stdout",
     "output_type": "stream",
     "text": [
      "Address of variable i in the increment function 0x7ff7b83ee79c\r\n",
      "Address of variable i in the main function      0x7ff7b83ee7b8\r\n"
     ]
    }
   ],
   "source": [
    "!gcc -ansi example12.c -o example12\n",
    "!./example12"
   ]
  },
  {
   "cell_type": "markdown",
   "id": "fa61c239",
   "metadata": {
    "slideshow": {
     "slide_type": "slide"
    }
   },
   "source": [
    "![Alt text](part2/output_p2-25.svg)"
   ]
  },
  {
   "cell_type": "markdown",
   "id": "fce55d3d",
   "metadata": {
    "slideshow": {
     "slide_type": "slide"
    }
   },
   "source": [
    "![Alt text](part2/output_p2-26.svg)"
   ]
  },
  {
   "cell_type": "markdown",
   "id": "1bd39644",
   "metadata": {
    "slideshow": {
     "slide_type": "slide"
    }
   },
   "source": [
    "![Alt text](part2/output_p2-27.svg)"
   ]
  },
  {
   "cell_type": "markdown",
   "id": "d46dcb33",
   "metadata": {
    "slideshow": {
     "slide_type": "slide"
    }
   },
   "source": [
    "![Alt text](part2/output_p2-28.svg)"
   ]
  },
  {
   "cell_type": "markdown",
   "id": "946ff47c",
   "metadata": {
    "slideshow": {
     "slide_type": "slide"
    }
   },
   "source": [
    "![Alt text](part2/output_p2-29.svg)"
   ]
  },
  {
   "cell_type": "markdown",
   "id": "85f406fe",
   "metadata": {
    "slideshow": {
     "slide_type": "slide"
    }
   },
   "source": [
    "![Alt text](part2/output_p2-30.svg)"
   ]
  },
  {
   "cell_type": "code",
   "execution_count": 27,
   "id": "01669d36",
   "metadata": {
    "slideshow": {
     "slide_type": "slide"
    }
   },
   "outputs": [
    {
     "name": "stdout",
     "output_type": "stream",
     "text": [
      "Overwriting example13.c\n"
     ]
    }
   ],
   "source": [
    "%%writefile example13.c\n",
    "\n",
    "#include<stdio.h>\n",
    "\n",
    "void increment(int *i){\n",
    "    (*i) = (*i) + 1;\n",
    "}\n",
    "\n",
    "int main(){\n",
    "    int  i = 10;\n",
    "    increment(&i);\n",
    "    printf(\"i = %d\\n\",i);\n",
    "    \n",
    "    return 0;\n",
    "}\n"
   ]
  },
  {
   "cell_type": "code",
   "execution_count": 28,
   "id": "ca6be344",
   "metadata": {
    "slideshow": {
     "slide_type": "slide"
    }
   },
   "outputs": [
    {
     "name": "stdout",
     "output_type": "stream",
     "text": [
      "i = 11\r\n"
     ]
    }
   ],
   "source": [
    "!gcc -ansi example13.c -o example13\n",
    "!./example13"
   ]
  },
  {
   "cell_type": "code",
   "execution_count": 29,
   "id": "1036aa8d",
   "metadata": {
    "scrolled": false,
    "slideshow": {
     "slide_type": "slide"
    }
   },
   "outputs": [
    {
     "name": "stdout",
     "output_type": "stream",
     "text": [
      "Overwriting example16.c\n"
     ]
    }
   ],
   "source": [
    "%%writefile example16.c\n",
    "\n",
    "#include <stdio.h>\n",
    "#include <stdlib.h>\n",
    "\n",
    "int G = 0;                        /* a global variable, stored in BSS segment */\n",
    "\n",
    "int main(int argc, char **argv){\n",
    "       static int s;              /* static local variable, stored in Block start symbol segment */\n",
    "       int a;                     /* automatic variable, stored on stack */\n",
    "       int *p;                    /* pointer variable for malloc below */ \n",
    "                                  /* obtain a block big enough for one int from the heap */\n",
    "       p = malloc(sizeof(int));\n",
    "       \n",
    "       printf(\"&G   = %p\\n\", &G);\n",
    "       printf(\"&s   = %p\\n\", &s);\n",
    "       printf(\"&a   = %p\\n\", &a);\n",
    "       printf(\"&p   = %p\\n\", &p);\n",
    "       printf(\"p    = %p\\n\", p);\n",
    "       printf(\"main = %p\\n\", main);\n",
    "       \n",
    "       free(p); \n",
    "       return 0;\n",
    "  }"
   ]
  },
  {
   "cell_type": "code",
   "execution_count": 30,
   "id": "3073215e",
   "metadata": {
    "slideshow": {
     "slide_type": "slide"
    }
   },
   "outputs": [
    {
     "name": "stdout",
     "output_type": "stream",
     "text": [
      "&G   = 0x102a6e020\r\n",
      "&s   = 0x102a6e024\r\n",
      "&a   = 0x7ff7bd4997ac\r\n",
      "&p   = 0x7ff7bd4997a0\r\n",
      "p    = 0x600002898030\r\n",
      "main = 0x102a69e80\r\n"
     ]
    }
   ],
   "source": [
    "!gcc -ansi example16.c -o example16\n",
    "!./example16"
   ]
  },
  {
   "cell_type": "markdown",
   "id": "1260f47f",
   "metadata": {
    "slideshow": {
     "slide_type": "slide"
    }
   },
   "source": [
    "![Alt text](part2/output_p2-31.svg)"
   ]
  },
  {
   "cell_type": "markdown",
   "id": "0e29cbb5",
   "metadata": {
    "slideshow": {
     "slide_type": "slide"
    }
   },
   "source": [
    "![Alt text](part2/output_p2-32.svg)"
   ]
  },
  {
   "cell_type": "code",
   "execution_count": 31,
   "id": "e71103c8",
   "metadata": {
    "slideshow": {
     "slide_type": "slide"
    }
   },
   "outputs": [
    {
     "name": "stdout",
     "output_type": "stream",
     "text": [
      "Overwriting example14.c\n"
     ]
    }
   ],
   "source": [
    "%%writefile example14.c\n",
    "\n",
    "#include<stdio.h>\n",
    "\n",
    "int main(int argc, char* argv[]){\n",
    "            \n",
    "            printf(\"Total number of arguments = %d\\n\", argc);\n",
    "            \n",
    "            while(--argc > 0)\n",
    "                printf(\"%s%s\", *++argv, (argc > 1)? \" \" :\"\");\n",
    "    \n",
    "            return 0;\n",
    "}"
   ]
  },
  {
   "cell_type": "code",
   "execution_count": 32,
   "id": "a362dfb0",
   "metadata": {
    "slideshow": {
     "slide_type": "slide"
    }
   },
   "outputs": [
    {
     "name": "stdout",
     "output_type": "stream",
     "text": [
      "Total number of arguments = 5\r\n",
      "hello world from Maine"
     ]
    }
   ],
   "source": [
    "!gcc -ansi example14.c -o example14\n",
    "!./example14 hello world from Maine"
   ]
  },
  {
   "cell_type": "markdown",
   "id": "50638ac9",
   "metadata": {
    "slideshow": {
     "slide_type": "slide"
    }
   },
   "source": [
    "![Alt text](part2/output_p2-33.svg)"
   ]
  },
  {
   "cell_type": "markdown",
   "id": "77ad7656",
   "metadata": {
    "slideshow": {
     "slide_type": "slide"
    }
   },
   "source": [
    "![Alt text](part2/output_p2-34.svg)"
   ]
  },
  {
   "cell_type": "code",
   "execution_count": 41,
   "id": "ea7e32f9",
   "metadata": {
    "slideshow": {
     "slide_type": "slide"
    }
   },
   "outputs": [
    {
     "name": "stdout",
     "output_type": "stream",
     "text": [
      "Overwriting example17.c\n"
     ]
    }
   ],
   "source": [
    "%%writefile example17.c\n",
    "\n",
    "#include<stdio.h>\n",
    "#include<stdlib.h>\n",
    "\n",
    "void cstrcpy(char *t, char *s){\n",
    "    while(*s != '0'){\n",
    "        *t = *s;\n",
    "        s++;\n",
    "        t++;\n",
    "    }\n",
    "}\n",
    "\n",
    "int main(){\n",
    "    char *pm1 = \"Hello\";\n",
    "    char *pm2 = (char*)malloc(6*sizeof(char)); \n",
    "    \n",
    "    \n",
    "    cstrcpy(pm2, pm1);\n",
    "    \n",
    "    printf(\"The original data = %s\\n\", pm1);\n",
    "    printf(\"The copied data = %s\\n\", pm2);\n",
    "    \n",
    "    free(pm2);\n",
    "    \n",
    "    return 0;\n",
    "}"
   ]
  },
  {
   "cell_type": "code",
   "execution_count": 42,
   "id": "6e08a4d9",
   "metadata": {
    "slideshow": {
     "slide_type": "slide"
    }
   },
   "outputs": [
    {
     "name": "stdout",
     "output_type": "stream",
     "text": [
      "The original data = Hello\r\n",
      "The copied data = Hello\r\n"
     ]
    }
   ],
   "source": [
    "!gcc -ansi example17.c -o example17\n",
    "!./example17"
   ]
  },
  {
   "cell_type": "code",
   "execution_count": 43,
   "id": "789fae91",
   "metadata": {
    "slideshow": {
     "slide_type": "slide"
    }
   },
   "outputs": [
    {
     "name": "stdout",
     "output_type": "stream",
     "text": [
      "Overwriting example18.c\n"
     ]
    }
   ],
   "source": [
    "%%writefile example18.c\n",
    "\n",
    "#include<stdio.h>\n",
    "#include<stdlib.h>\n",
    "\n",
    "void cstrcpy(char *t, char *s){\n",
    "    while(*t++ = *s++){\n",
    "        ;\n",
    "    }\n",
    "}\n",
    "\n",
    "int main(){\n",
    "    char *pm1 = \"Hello\";\n",
    "    char *pm2 = (char*)malloc(6*sizeof(char)); \n",
    "    \n",
    "    \n",
    "    cstrcpy(pm2, pm1);\n",
    "    \n",
    "    printf(\"The original data = %s\\n\", pm1);\n",
    "    printf(\"The copied data = %s\\n\", pm2);\n",
    "    \n",
    "    free(pm2);\n",
    "    \n",
    "    return 0;\n",
    "}"
   ]
  },
  {
   "cell_type": "code",
   "execution_count": 44,
   "id": "5ac3d98c",
   "metadata": {
    "slideshow": {
     "slide_type": "slide"
    }
   },
   "outputs": [
    {
     "name": "stdout",
     "output_type": "stream",
     "text": [
      "The original data = Hello\r\n",
      "The copied data = Hello\r\n"
     ]
    }
   ],
   "source": [
    "!gcc -ansi -Wno-parentheses example18.c -o example18\n",
    "!./example18"
   ]
  },
  {
   "cell_type": "code",
   "execution_count": 37,
   "id": "18ee35b7",
   "metadata": {
    "slideshow": {
     "slide_type": "slide"
    }
   },
   "outputs": [
    {
     "name": "stdout",
     "output_type": "stream",
     "text": [
      "Overwriting example19.c\n"
     ]
    }
   ],
   "source": [
    "%%writefile example19.c\n",
    "\n",
    "#include<stdio.h>\n",
    "\n",
    "int cstrlen(char *s){\n",
    "    char *p = s;\n",
    "    while(*++p){\n",
    "        ;\n",
    "    }\n",
    "    return p - s;\n",
    "}\n",
    "\n",
    "int main(){\n",
    "    char *pm = \"Hello\";\n",
    "    \n",
    "    printf(\"Length of the string = %d\\n\", cstrlen(pm));\n",
    "    \n",
    "    \n",
    "    return 0;\n",
    "}"
   ]
  },
  {
   "cell_type": "code",
   "execution_count": 38,
   "id": "fcb19fe1",
   "metadata": {
    "slideshow": {
     "slide_type": "slide"
    }
   },
   "outputs": [
    {
     "name": "stdout",
     "output_type": "stream",
     "text": [
      "Length of the string = 5\r\n"
     ]
    }
   ],
   "source": [
    "!gcc -ansi  example19.c -o example19\n",
    "!./example19"
   ]
  },
  {
   "cell_type": "code",
   "execution_count": 39,
   "id": "805d3049",
   "metadata": {
    "slideshow": {
     "slide_type": "slide"
    }
   },
   "outputs": [
    {
     "name": "stdout",
     "output_type": "stream",
     "text": [
      "Overwriting example20.c\n"
     ]
    }
   ],
   "source": [
    "%%writefile example20.c\n",
    "\n",
    "#include<stdio.h>\n",
    "\n",
    "int main(){\n",
    "    char *months[] = {\"January\", \"February\", \"March\"};\n",
    "    \n",
    "    printf(\"Content of months[0] = %p\\n\", months[0]);\n",
    "    printf(\"Content of months[1] = %p\\n\", months[1]);\n",
    "    printf(\"Content of months[2] = %p\\n\", months[2]);\n",
    "    \n",
    "    printf(\"Data pointed by months[0], months[1], months[2] = %s, %s, %s\\n\", \n",
    "           months[0], months[1], months[2]);\n",
    "    \n",
    "    return 0;\n",
    "}"
   ]
  },
  {
   "cell_type": "code",
   "execution_count": 40,
   "id": "aab1f2ca",
   "metadata": {
    "slideshow": {
     "slide_type": "slide"
    }
   },
   "outputs": [
    {
     "name": "stdout",
     "output_type": "stream",
     "text": [
      "Content of months[0] = 0x1048adf04\r\n",
      "Content of months[1] = 0x1048adf0c\r\n",
      "Content of months[2] = 0x1048adf15\r\n",
      "Data pointed by months[0], months[1], months[2] = January, February, March\r\n"
     ]
    }
   ],
   "source": [
    "!gcc -ansi  example20.c -o example20\n",
    "!./example20"
   ]
  }
 ],
 "metadata": {
  "celltoolbar": "Slideshow",
  "kernelspec": {
   "display_name": "Python 3 (ipykernel)",
   "language": "python",
   "name": "python3"
  },
  "language_info": {
   "codemirror_mode": {
    "name": "ipython",
    "version": 3
   },
   "file_extension": ".py",
   "mimetype": "text/x-python",
   "name": "python",
   "nbconvert_exporter": "python",
   "pygments_lexer": "ipython3",
   "version": "3.9.1"
  },
  "rise": {
   "theme": "none",
   "transition": "none"
  }
 },
 "nbformat": 4,
 "nbformat_minor": 5
}
