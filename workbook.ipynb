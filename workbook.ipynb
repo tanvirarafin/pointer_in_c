{
 "cells": [
  {
   "cell_type": "code",
   "execution_count": null,
   "id": "4f0d8caf",
   "metadata": {
    "hideCode": false,
    "hidePrompt": false,
    "slideshow": {
     "slide_type": "slide"
    }
   },
   "outputs": [],
   "source": [
    "%%writefile example01.c\n",
    "\n",
    "#include <stdio.h>\n",
    "\n",
    "int main(){\n",
    "        char c; \n",
    "        char* p;\n",
    "\n",
    "        c = 'A';\n",
    "        p = &c;\n",
    "    \n",
    "        printf(\"c = %c\\n\", c);\n",
    "        printf(\"p = %p\\n\", p);\n",
    "        return 0;\n",
    "}\n"
   ]
  },
  {
   "cell_type": "code",
   "execution_count": null,
   "id": "22e4e83b",
   "metadata": {
    "scrolled": true,
    "slideshow": {
     "slide_type": "-"
    }
   },
   "outputs": [],
   "source": [
    "!gcc -ansi example01.c -o example01\n",
    "!./example01"
   ]
  },
  {
   "cell_type": "code",
   "execution_count": null,
   "id": "89aaabe8",
   "metadata": {
    "scrolled": false,
    "slideshow": {
     "slide_type": "slide"
    }
   },
   "outputs": [],
   "source": [
    "%%writefile example02.c\n",
    "\n",
    "#include <stdio.h>\n",
    "\n",
    "int main(){\n",
    "        char c; \n",
    "        char* p;\n",
    "        char** q;\n",
    "\n",
    "        c = 'A';\n",
    "        p = &c;\n",
    "        q = &p;\n",
    "    \n",
    "        printf(\"c = %c\\n\", c);\n",
    "        printf(\"p = %p\\n\", p);\n",
    "        printf(\"q = %p\\n\", q);\n",
    "        return 0;\n",
    "}"
   ]
  },
  {
   "cell_type": "code",
   "execution_count": null,
   "id": "a4a477d2",
   "metadata": {
    "scrolled": false
   },
   "outputs": [],
   "source": [
    "!gcc -ansi example02.c -o example02\n",
    "!./example02"
   ]
  },
  {
   "cell_type": "code",
   "execution_count": null,
   "id": "7c29caaa",
   "metadata": {
    "slideshow": {
     "slide_type": "slide"
    }
   },
   "outputs": [],
   "source": [
    "%%writefile example03.c\n",
    "\n",
    "#include <stdio.h>\n",
    "\n",
    "int main(){\n",
    "        char c; \n",
    "        char* p;\n",
    "        char** q;\n",
    "\n",
    "        c = 'A';\n",
    "        p = &c;\n",
    "        q = &p;\n",
    "    \n",
    "        printf(\"c = %c\\n\", c);\n",
    "        printf(\"p = %p\\n\", p);\n",
    "        printf(\"q = %p\\n\", q);\n",
    "        printf(\"Dereferencing p  gives us = %c\\n\", *p);\n",
    "        printf(\"Dereferencing q  gives us %p\\n\", *q);\n",
    "        printf(\"Dereferencing q  twice gives us %c\\n\", **q);\n",
    "        return 0;\n",
    "    \n",
    "}"
   ]
  },
  {
   "cell_type": "code",
   "execution_count": null,
   "id": "2f1b333f",
   "metadata": {
    "slideshow": {
     "slide_type": "slide"
    }
   },
   "outputs": [],
   "source": [
    "!gcc -ansi example03.c -o example03\n",
    "!./example03"
   ]
  },
  {
   "cell_type": "code",
   "execution_count": null,
   "id": "91a0dcb8",
   "metadata": {
    "slideshow": {
     "slide_type": "slide"
    }
   },
   "outputs": [],
   "source": [
    "%%writefile example04.c\n",
    "\n",
    "#include<stdio.h>\n",
    "\n",
    "int main(){        \n",
    "        int *ip; \n",
    "        int  x = 10;\n",
    "        ip = &x;\n",
    "\n",
    "        printf (\"*ip = %d\\n\", *ip);\n",
    "       \n",
    "        ++*ip; \n",
    "        *ip = *ip*4-2;\n",
    "        \n",
    "        printf (\"x = %d\\n\", x);\n",
    "    \n",
    "return 0;\n",
    "}"
   ]
  },
  {
   "cell_type": "code",
   "execution_count": null,
   "id": "945e18c5",
   "metadata": {},
   "outputs": [],
   "source": [
    "!gcc -ansi example04.c -o example04\n",
    "!./example04"
   ]
  },
  {
   "cell_type": "code",
   "execution_count": null,
   "id": "7fc10406",
   "metadata": {
    "slideshow": {
     "slide_type": "slide"
    }
   },
   "outputs": [],
   "source": [
    "%%writefile example05.c\n",
    "\n",
    "#include<stdio.h>\n",
    "\n",
    "int main(){        \n",
    "        int *ip; \n",
    "        int  x = 10;\n",
    "        ip = &x;\n",
    "\n",
    "        printf (\"*ip = %d\\n\", *ip);\n",
    "       \n",
    "        *ip++; \n",
    "        (*ip) = (*ip)*4-2;\n",
    "        \n",
    "        printf (\"x = %d\\n\", x);\n",
    "    \n",
    "return 0;\n",
    "}"
   ]
  },
  {
   "cell_type": "code",
   "execution_count": null,
   "id": "dd09ef5f",
   "metadata": {
    "slideshow": {
     "slide_type": "slide"
    }
   },
   "outputs": [],
   "source": [
    "!gcc -ansi example05.c -o example05\n",
    "!./example05"
   ]
  },
  {
   "cell_type": "code",
   "execution_count": null,
   "id": "e09b78ca",
   "metadata": {
    "slideshow": {
     "slide_type": "slide"
    }
   },
   "outputs": [],
   "source": [
    "%%writefile example05.c\n",
    "\n",
    "#include<stdio.h>\n",
    "\n",
    "int main(){        \n",
    "        int *ip; \n",
    "        int  x = 10;\n",
    "        ip = &x;\n",
    "\n",
    "        printf (\"*ip = %d\\n\", *ip);\n",
    "       \n",
    "        (*ip)++; // '*' Operator associated from left to right\n",
    "        (*ip) = (*ip)*4-2;\n",
    "        \n",
    "        printf (\"x = %d\\n\", x);\n",
    "    \n",
    "return 0;\n",
    "}"
   ]
  },
  {
   "cell_type": "code",
   "execution_count": null,
   "id": "f3099436",
   "metadata": {
    "slideshow": {
     "slide_type": "slide"
    }
   },
   "outputs": [],
   "source": [
    "!gcc -ansi example05.c -o example05\n",
    "!./example05"
   ]
  },
  {
   "cell_type": "code",
   "execution_count": null,
   "id": "d5a9c58b",
   "metadata": {
    "slideshow": {
     "slide_type": "slide"
    }
   },
   "outputs": [],
   "source": [
    "%%writefile example06.c\n",
    "\n",
    "#include<stdio.h>\n",
    "\n",
    "int main(){\n",
    "    int  a[5];\n",
    "    int  *pa;\n",
    "    \n",
    "    pa = &a[0];\n",
    "\n",
    "    \n",
    "    *pa = 10; *(pa + 1) = 20; *(pa+2) =30;\n",
    "    \n",
    "    int y = *(pa+2); \n",
    "    \n",
    "    printf(\" y = %d\\n\", y);\n",
    "    return 0;\n",
    "}\n"
   ]
  },
  {
   "cell_type": "code",
   "execution_count": null,
   "id": "1c966006",
   "metadata": {
    "slideshow": {
     "slide_type": "slide"
    }
   },
   "outputs": [],
   "source": [
    "!gcc -ansi example06.c -o example06\n",
    "!./example06"
   ]
  },
  {
   "cell_type": "code",
   "execution_count": null,
   "id": "a449a370",
   "metadata": {
    "slideshow": {
     "slide_type": "slide"
    }
   },
   "outputs": [],
   "source": [
    "%%writefile example07.c\n",
    "\n",
    "#include<stdio.h>\n",
    "\n",
    "int main(){\n",
    "    int  a[5] = {3, 6, 9, 12, 15}; \n",
    "    int  *pa; \n",
    "    pa = &a[0];\n",
    "\n",
    "    printf(\" *pa = %d\\n\", *pa);\n",
    "    printf(\" *(pa+1) = %d\\n\", *(pa+1));\n",
    "    printf(\" *(pa+2) = %d\\n\", *(pa+2));\n",
    "    return 0;\n",
    "}\n"
   ]
  },
  {
   "cell_type": "code",
   "execution_count": null,
   "id": "5dacfd9d",
   "metadata": {
    "slideshow": {
     "slide_type": "slide"
    }
   },
   "outputs": [],
   "source": [
    "!gcc -ansi example07.c -o example07\n",
    "!./example07"
   ]
  },
  {
   "cell_type": "code",
   "execution_count": null,
   "id": "3569d608",
   "metadata": {
    "slideshow": {
     "slide_type": "slide"
    }
   },
   "outputs": [],
   "source": [
    "%%writefile example08.c\n",
    "\n",
    "#include<stdio.h>\n",
    "\n",
    "int main(){\n",
    "    int  a[5] = {3, 6, 9, 12, 15}; \n",
    "    int  *pa; \n",
    "    pa = &a[0];\n",
    "\n",
    "    printf(\" *pa = %d\\n\", *pa);\n",
    "    printf(\" *pa+1 = %d\\n\", *pa+1);\n",
    "    printf(\" *pa+2 = %d\\n\", *pa+2);\n",
    "    return 0;\n",
    "}\n"
   ]
  },
  {
   "cell_type": "code",
   "execution_count": null,
   "id": "0ff23252",
   "metadata": {
    "slideshow": {
     "slide_type": "slide"
    }
   },
   "outputs": [],
   "source": [
    "!gcc -ansi example08.c -o example08\n",
    "!./example08"
   ]
  },
  {
   "cell_type": "code",
   "execution_count": null,
   "id": "c58c2bf0",
   "metadata": {
    "slideshow": {
     "slide_type": "slide"
    }
   },
   "outputs": [],
   "source": [
    "!gcc -ansi example09.c -o example09\n",
    "!./example09"
   ]
  },
  {
   "cell_type": "markdown",
   "id": "9c94c79b",
   "metadata": {
    "slideshow": {
     "slide_type": "slide"
    }
   },
   "source": [
    "![Alt text](part2/output_p2-17.svg)"
   ]
  },
  {
   "cell_type": "code",
   "execution_count": null,
   "id": "08192391",
   "metadata": {
    "slideshow": {
     "slide_type": "slide"
    }
   },
   "outputs": [],
   "source": [
    "%%writefile example10.c\n",
    "\n",
    "#include<stdio.h>\n",
    "\n",
    "int main(){\n",
    "    char *months[] = {\"January\", \"February\", \"March\"};\n",
    "    \n",
    "    printf(\"Content of months[0] = %p\\n\", months[0]);\n",
    "    printf(\"Content of months[1] = %p\\n\", months[1]);\n",
    "    printf(\"Content of months[2] = %p\\n\", months[2]);\n",
    "    \n",
    "    printf(\"Data pointed by months[0], months[1], months[2] = %s, %s, %s\\n\", \n",
    "           months[0], months[1], months[2]);\n",
    "    \n",
    "    return 0;\n",
    "}"
   ]
  },
  {
   "cell_type": "code",
   "execution_count": null,
   "id": "50e233f4",
   "metadata": {
    "slideshow": {
     "slide_type": "slide"
    }
   },
   "outputs": [],
   "source": [
    "!gcc -ansi example10.c -o example10\n",
    "!./example10"
   ]
  },
  {
   "cell_type": "code",
   "execution_count": null,
   "id": "d831794c",
   "metadata": {
    "slideshow": {
     "slide_type": "slide"
    }
   },
   "outputs": [],
   "source": [
    "%%writefile example11.c\n",
    "\n",
    "#include<stdio.h>\n",
    "\n",
    "int main(){\n",
    "    int  a[5] = {3, 6, 9, 12, 15}; \n",
    "    int  *pa; int  *qa;\n",
    "\n",
    "    pa = &a[0];\n",
    "    qa = &a[2];\n",
    "\n",
    "    printf(\" qa-pa = %ld\\n\", qa-pa);\n",
    "    printf(\" qa>=pa? = %d\\n\", qa >= pa);\n",
    "    printf(\" qa==0? = %d\\n\", qa == 0);\n",
    "    return 0;\n",
    "}\n"
   ]
  },
  {
   "cell_type": "code",
   "execution_count": null,
   "id": "4731cbc6",
   "metadata": {
    "slideshow": {
     "slide_type": "slide"
    }
   },
   "outputs": [],
   "source": [
    "!gcc -ansi example11.c -o example11\n",
    "!./example11"
   ]
  },
  {
   "cell_type": "code",
   "execution_count": null,
   "id": "b140e300",
   "metadata": {
    "slideshow": {
     "slide_type": "slide"
    }
   },
   "outputs": [],
   "source": [
    "%%writefile example12.c\n",
    "\n",
    "#include<stdio.h>\n",
    "\n",
    "void increment(int i){\n",
    "    i = i+1;\n",
    "}\n",
    "\n",
    "int main(){\n",
    "    int  i = 10;\n",
    "    increment(i);\n",
    "    printf(\"i = %d\\n\",i);\n",
    "    \n",
    "    return 0;\n",
    "}\n"
   ]
  },
  {
   "cell_type": "code",
   "execution_count": null,
   "id": "2078959a",
   "metadata": {
    "slideshow": {
     "slide_type": "slide"
    }
   },
   "outputs": [],
   "source": [
    "!gcc -ansi example12.c -o example12\n",
    "!./example12"
   ]
  },
  {
   "cell_type": "code",
   "execution_count": null,
   "id": "64983403",
   "metadata": {
    "slideshow": {
     "slide_type": "slide"
    }
   },
   "outputs": [],
   "source": [
    "%%writefile example13.c\n",
    "\n",
    "#include<stdio.h>\n",
    "\n",
    "void increment(int i){\n",
    "    i = i+1;\n",
    "    printf(\"Address of variable i in the increment function %p\\n\", &i);\n",
    "}\n",
    "\n",
    "int main(){\n",
    "    int  i = 10;\n",
    "    increment(i);\n",
    "    printf(\"Address of variable i in the main function      %p\\n\", &i);\n",
    "    return 0;\n",
    "}\n"
   ]
  },
  {
   "cell_type": "code",
   "execution_count": null,
   "id": "eed4afb3",
   "metadata": {
    "slideshow": {
     "slide_type": "slide"
    }
   },
   "outputs": [],
   "source": [
    "!gcc -ansi example13.c -o example13\n",
    "!./example13"
   ]
  },
  {
   "cell_type": "code",
   "execution_count": null,
   "id": "01669d36",
   "metadata": {
    "slideshow": {
     "slide_type": "slide"
    }
   },
   "outputs": [],
   "source": [
    "%%writefile example14.c\n",
    "\n",
    "#include<stdio.h>\n",
    "\n",
    "void increment(int *i){\n",
    "    (*i) = (*i) + 1;\n",
    "}\n",
    "\n",
    "int main(){\n",
    "    int  i = 10;\n",
    "    increment(&i);\n",
    "    printf(\"i = %d\\n\",i);\n",
    "    \n",
    "    return 0;\n",
    "}\n"
   ]
  },
  {
   "cell_type": "code",
   "execution_count": null,
   "id": "ca6be344",
   "metadata": {
    "slideshow": {
     "slide_type": "slide"
    }
   },
   "outputs": [],
   "source": [
    "!gcc -ansi example14.c -o example14\n",
    "!./example14"
   ]
  },
  {
   "cell_type": "code",
   "execution_count": null,
   "id": "1036aa8d",
   "metadata": {
    "scrolled": false,
    "slideshow": {
     "slide_type": "slide"
    }
   },
   "outputs": [],
   "source": [
    "%%writefile example15.c\n",
    "\n",
    "#include <stdio.h>\n",
    "#include <stdlib.h>\n",
    "\n",
    "int G = 0;                        /* a global variable, stored in BSS segment */\n",
    "\n",
    "int main(int argc, char **argv){\n",
    "       static int s;              /* static local variable, stored in Block start symbol segment */\n",
    "       int a;                     /* automatic variable, stored on stack */\n",
    "       int *p;                    /* pointer variable for malloc below */ \n",
    "                                  /* obtain a block big enough for one int from the heap */\n",
    "       p = malloc(sizeof(int));\n",
    "       \n",
    "       printf(\"&G   = %p\\n\", &G);\n",
    "       printf(\"&s   = %p\\n\", &s);\n",
    "       printf(\"&a   = %p\\n\", &a);\n",
    "       printf(\"&p   = %p\\n\", &p);\n",
    "       printf(\"p    = %p\\n\", p);\n",
    "       printf(\"main = %p\\n\", main);\n",
    "       \n",
    "       free(p); \n",
    "       return 0;\n",
    "  }"
   ]
  },
  {
   "cell_type": "code",
   "execution_count": null,
   "id": "3073215e",
   "metadata": {
    "slideshow": {
     "slide_type": "slide"
    }
   },
   "outputs": [],
   "source": [
    "!gcc -ansi example15.c -o example15\n",
    "!./example15"
   ]
  },
  {
   "cell_type": "code",
   "execution_count": null,
   "id": "e71103c8",
   "metadata": {
    "slideshow": {
     "slide_type": "slide"
    }
   },
   "outputs": [],
   "source": [
    "%%writefile example16.c\n",
    "\n",
    "#include<stdio.h>\n",
    "\n",
    "int main(int argc, char* argv[]){\n",
    "            \n",
    "            printf(\"Total number of arguments = %d\\n\", argc);\n",
    "            \n",
    "            while(--argc > 0)\n",
    "                printf(\"%s%s\", *++argv, (argc > 1)? \" \" :\"\");\n",
    "    \n",
    "            return 0;\n",
    "}"
   ]
  },
  {
   "cell_type": "code",
   "execution_count": null,
   "id": "a362dfb0",
   "metadata": {
    "slideshow": {
     "slide_type": "slide"
    }
   },
   "outputs": [],
   "source": [
    "!gcc -ansi example16.c -o example16\n",
    "!./example16 hello world from Maine"
   ]
  },
  {
   "cell_type": "code",
   "execution_count": null,
   "id": "ea7e32f9",
   "metadata": {
    "slideshow": {
     "slide_type": "slide"
    }
   },
   "outputs": [],
   "source": [
    "%%writefile example17.c\n",
    "\n",
    "#include<stdio.h>\n",
    "#include<stdlib.h>\n",
    "\n",
    "void cstrcpy(char *t, char *s){\n",
    "    while(*s != '0'){\n",
    "        *t = *s;\n",
    "        s++;\n",
    "        t++;\n",
    "    }\n",
    "}\n",
    "\n",
    "int main(){\n",
    "    char *pm1 = \"Hello\";\n",
    "    char *pm2 = (char*)malloc(6*sizeof(char)); \n",
    "    \n",
    "    \n",
    "    cstrcpy(pm2, pm1);\n",
    "    \n",
    "    printf(\"The original data = %s\\n\", pm1);\n",
    "    printf(\"The copied data = %s\\n\", pm2);\n",
    "    \n",
    "    free(pm2);\n",
    "    \n",
    "    return 0;\n",
    "}"
   ]
  },
  {
   "cell_type": "code",
   "execution_count": null,
   "id": "df1fdef6",
   "metadata": {
    "slideshow": {
     "slide_type": "slide"
    }
   },
   "outputs": [],
   "source": [
    "!gcc -ansi example17.c -o example17\n",
    "!./example17"
   ]
  },
  {
   "cell_type": "code",
   "execution_count": null,
   "id": "50081e33",
   "metadata": {
    "slideshow": {
     "slide_type": "slide"
    }
   },
   "outputs": [],
   "source": [
    "%%writefile example18.c\n",
    "\n",
    "#include<stdio.h>\n",
    "#include<stdlib.h>\n",
    "\n",
    "void cstrcpy(char *t, char *s){\n",
    "    while(*t++ = *s++){\n",
    "        ;\n",
    "    }\n",
    "}\n",
    "\n",
    "int main(){\n",
    "    char *pm1 = \"Hello\";\n",
    "    char *pm2 = (char*)malloc(6*sizeof(char)); \n",
    "    \n",
    "    \n",
    "    cstrcpy(pm2, pm1);\n",
    "    \n",
    "    printf(\"The original data = %s\\n\", pm1);\n",
    "    printf(\"The copied data = %s\\n\", pm2);\n",
    "    \n",
    "    free(pm2);\n",
    "    \n",
    "    return 0;\n",
    "}"
   ]
  },
  {
   "cell_type": "code",
   "execution_count": null,
   "id": "c151e01c",
   "metadata": {
    "slideshow": {
     "slide_type": "slide"
    }
   },
   "outputs": [],
   "source": [
    "!gcc -ansi -Wno-parentheses example18.c -o example18\n",
    "!./example18"
   ]
  },
  {
   "cell_type": "code",
   "execution_count": null,
   "id": "279d5cef",
   "metadata": {
    "slideshow": {
     "slide_type": "slide"
    }
   },
   "outputs": [],
   "source": [
    "%%writefile example19.c\n",
    "\n",
    "#include<stdio.h>\n",
    "\n",
    "int cstrlen(char *s){\n",
    "    char *p = s;\n",
    "    while(*++p){\n",
    "        ;\n",
    "    }\n",
    "    return p - s;\n",
    "}\n",
    "\n",
    "int main(){\n",
    "    char *pm = \"Hello\";\n",
    "    \n",
    "    printf(\"Length of the string = %d\\n\", cstrlen(pm));\n",
    "    \n",
    "    \n",
    "    return 0;\n",
    "}"
   ]
  },
  {
   "cell_type": "code",
   "execution_count": null,
   "id": "b5b1ef5d",
   "metadata": {
    "slideshow": {
     "slide_type": "slide"
    }
   },
   "outputs": [],
   "source": [
    "!gcc -ansi  example19.c -o example19\n",
    "!./example19"
   ]
  },
  {
   "cell_type": "code",
   "execution_count": null,
   "id": "cf297ae5",
   "metadata": {
    "slideshow": {
     "slide_type": "slide"
    }
   },
   "outputs": [],
   "source": [
    "%%writefile example20.c\n",
    "\n",
    "// Function pointers\n",
    "\n",
    "#include<stdio.h>\n",
    "\n",
    "\n",
    "int add(int a, int b) {return a+b;}\n",
    "int mul(int a, int b) {return a*b;}\n",
    "\n",
    "void exec(int (*fun)(int, int)){\n",
    "    printf(\"The result is %d\\n\", fun(5,7));\n",
    "}\n",
    "\n",
    "int main(){\n",
    "    \n",
    "    int (*func_pt) (int, int);\n",
    "    func_pt = &add;\n",
    "    \n",
    "    printf(\"The result is %d\\n\", func_pt(5,7));\n",
    "    \n",
    "    exec(add);\n",
    "    exec(mul);\n",
    "    return 0;\n",
    "}"
   ]
  },
  {
   "cell_type": "code",
   "execution_count": null,
   "id": "d9009d30",
   "metadata": {
    "slideshow": {
     "slide_type": "slide"
    }
   },
   "outputs": [],
   "source": [
    "!gcc -ansi  example20.c -o example20\n",
    "!./example20"
   ]
  },
  {
   "cell_type": "code",
   "execution_count": null,
   "id": "f04353fb",
   "metadata": {},
   "outputs": [],
   "source": [
    "%%writefile example21.c\n",
    "#include<stdio.h>\n",
    "\n",
    "\n",
    "\n",
    "int main(){\n",
    "    \n",
    "    int x = 10;\n",
    "    int *y = &x;\n",
    "    \n",
    "    printf(\"*y = %d\\n\", *y);\n",
    "    \n",
    "    int *z = y;\n",
    "    printf(\"*z = %d\\n\", *z);\n",
    "    \n",
    "    int *s;\n",
    "    *s = 2;\n",
    "    z = s;\n",
    "    printf(\"*z = %d\\n\", *z);\n",
    "    printf(\"z = %p\\n\", z);\n",
    "    printf(\"s = %p\\n\", s);\n",
    "    \n",
    "    *z = *y;\n",
    "    printf(\"*z = %d\\n\", *z);\n",
    "    printf(\"z = %p\\n\", z);\n",
    "    printf(\"y = %p\\n\", y);\n",
    "    \n",
    "    return 0;\n",
    "}"
   ]
  },
  {
   "cell_type": "code",
   "execution_count": null,
   "id": "dc521657",
   "metadata": {},
   "outputs": [],
   "source": [
    "!gcc -ansi  example21.c -o example21\n",
    "!./example21"
   ]
  }
 ],
 "metadata": {
  "celltoolbar": "Slideshow",
  "kernelspec": {
   "display_name": "Python 3 (ipykernel)",
   "language": "python",
   "name": "python3"
  },
  "language_info": {
   "codemirror_mode": {
    "name": "ipython",
    "version": 3
   },
   "file_extension": ".py",
   "mimetype": "text/x-python",
   "name": "python",
   "nbconvert_exporter": "python",
   "pygments_lexer": "ipython3",
   "version": "3.9.1"
  },
  "rise": {
   "theme": "none",
   "transition": "none"
  }
 },
 "nbformat": 4,
 "nbformat_minor": 5
}
